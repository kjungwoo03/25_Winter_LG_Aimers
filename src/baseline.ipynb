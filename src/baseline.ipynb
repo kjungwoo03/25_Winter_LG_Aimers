{
 "cells": [
  {
   "cell_type": "markdown",
   "metadata": {},
   "source": [
    "### A. Import"
   ]
  },
  {
   "cell_type": "code",
   "execution_count": 18,
   "metadata": {},
   "outputs": [],
   "source": [
    "import pandas as pd\n",
    "import numpy as np\n",
    "import seaborn as sns\n",
    "import openpyxl\n",
    "import matplotlib.pyplot as plt\n",
    "from tqdm import tqdm\n",
    "\n",
    "from sklearn.preprocessing import LabelEncoder, OrdinalEncoder\n",
    "from sklearn.ensemble import ExtraTreesClassifier\n",
    "\n",
    "from sklearn.ensemble import GradientBoostingClassifier, AdaBoostClassifier, RandomForestClassifier\n",
    "from sklearn.metrics import accuracy_score, roc_auc_score\n",
    "from sklearn.tree import DecisionTreeClassifier\n",
    "from sklearn.neighbors import KNeighborsClassifier\n",
    "from sklearn.linear_model import LogisticRegression\n",
    "from xgboost import XGBClassifier\n",
    "from lightgbm import LGBMClassifier\n",
    "from catboost import CatBoostClassifier"
   ]
  },
  {
   "cell_type": "markdown",
   "metadata": {},
   "source": [
    "### B. Data Load"
   ]
  },
  {
   "cell_type": "code",
   "execution_count": 2,
   "metadata": {},
   "outputs": [],
   "source": [
    "train = pd.read_csv('../data/train.csv').drop(columns=['ID'])\n",
    "test = pd.read_csv('../data/test.csv').drop(columns=['ID'])"
   ]
  },
  {
   "cell_type": "code",
   "execution_count": 3,
   "metadata": {},
   "outputs": [],
   "source": [
    "X = train.drop('임신 성공 여부', axis=1)\n",
    "y = train['임신 성공 여부']"
   ]
  },
  {
   "cell_type": "code",
   "execution_count": 4,
   "metadata": {},
   "outputs": [
    {
     "data": {
      "text/html": [
       "<div>\n",
       "<style scoped>\n",
       "    .dataframe tbody tr th:only-of-type {\n",
       "        vertical-align: middle;\n",
       "    }\n",
       "\n",
       "    .dataframe tbody tr th {\n",
       "        vertical-align: top;\n",
       "    }\n",
       "\n",
       "    .dataframe thead th {\n",
       "        text-align: right;\n",
       "    }\n",
       "</style>\n",
       "<table border=\"1\" class=\"dataframe\">\n",
       "  <thead>\n",
       "    <tr style=\"text-align: right;\">\n",
       "      <th></th>\n",
       "      <th>시술 시기 코드</th>\n",
       "      <th>시술 당시 나이</th>\n",
       "      <th>임신 시도 또는 마지막 임신 경과 연수</th>\n",
       "      <th>시술 유형</th>\n",
       "      <th>특정 시술 유형</th>\n",
       "      <th>배란 자극 여부</th>\n",
       "      <th>배란 유도 유형</th>\n",
       "      <th>단일 배아 이식 여부</th>\n",
       "      <th>착상 전 유전 검사 사용 여부</th>\n",
       "      <th>착상 전 유전 진단 사용 여부</th>\n",
       "      <th>...</th>\n",
       "      <th>신선 배아 사용 여부</th>\n",
       "      <th>기증 배아 사용 여부</th>\n",
       "      <th>대리모 여부</th>\n",
       "      <th>PGD 시술 여부</th>\n",
       "      <th>PGS 시술 여부</th>\n",
       "      <th>난자 채취 경과일</th>\n",
       "      <th>난자 해동 경과일</th>\n",
       "      <th>난자 혼합 경과일</th>\n",
       "      <th>배아 이식 경과일</th>\n",
       "      <th>배아 해동 경과일</th>\n",
       "    </tr>\n",
       "  </thead>\n",
       "  <tbody>\n",
       "    <tr>\n",
       "      <th>0</th>\n",
       "      <td>TRZKPL</td>\n",
       "      <td>만18-34세</td>\n",
       "      <td>NaN</td>\n",
       "      <td>IVF</td>\n",
       "      <td>ICSI</td>\n",
       "      <td>1</td>\n",
       "      <td>기록되지 않은 시행</td>\n",
       "      <td>0.0</td>\n",
       "      <td>NaN</td>\n",
       "      <td>0.0</td>\n",
       "      <td>...</td>\n",
       "      <td>1.0</td>\n",
       "      <td>0.0</td>\n",
       "      <td>0.0</td>\n",
       "      <td>NaN</td>\n",
       "      <td>NaN</td>\n",
       "      <td>0.0</td>\n",
       "      <td>NaN</td>\n",
       "      <td>0.0</td>\n",
       "      <td>3.0</td>\n",
       "      <td>NaN</td>\n",
       "    </tr>\n",
       "  </tbody>\n",
       "</table>\n",
       "<p>1 rows × 67 columns</p>\n",
       "</div>"
      ],
      "text/plain": [
       "  시술 시기 코드 시술 당시 나이  임신 시도 또는 마지막 임신 경과 연수 시술 유형 특정 시술 유형  배란 자극 여부  \\\n",
       "0   TRZKPL  만18-34세                    NaN   IVF     ICSI         1   \n",
       "\n",
       "     배란 유도 유형  단일 배아 이식 여부  착상 전 유전 검사 사용 여부  착상 전 유전 진단 사용 여부  ...  \\\n",
       "0  기록되지 않은 시행          0.0               NaN               0.0  ...   \n",
       "\n",
       "   신선 배아 사용 여부  기증 배아 사용 여부  대리모 여부  PGD 시술 여부  PGS 시술 여부  난자 채취 경과일  \\\n",
       "0          1.0          0.0     0.0        NaN        NaN        0.0   \n",
       "\n",
       "   난자 해동 경과일  난자 혼합 경과일  배아 이식 경과일  배아 해동 경과일  \n",
       "0        NaN        0.0        3.0        NaN  \n",
       "\n",
       "[1 rows x 67 columns]"
      ]
     },
     "execution_count": 4,
     "metadata": {},
     "output_type": "execute_result"
    }
   ],
   "source": [
    "X.head(1)"
   ]
  },
  {
   "cell_type": "markdown",
   "metadata": {},
   "source": [
    "### C. Column Selection"
   ]
  },
  {
   "cell_type": "code",
   "execution_count": 5,
   "metadata": {},
   "outputs": [],
   "source": [
    "# 범주형/수치형 컬럼 분류를 위해 label 파일 불러오기\n",
    "label_df = pd.read_excel('../data/label.xlsx')\n",
    "\n",
    "# 범주형 컬럼 필터링 \n",
    "categorical_columns = label_df[label_df['범주형 여부'] == 1]['컬럼명'].tolist()\n",
    "categorical_columns.append('특정 시술 유형')\n",
    "\n",
    "# 수치형 컬럼 필터링\n",
    "numerical_columns = [col for col in X.columns if col not in categorical_columns]\n"
   ]
  },
  {
   "cell_type": "code",
   "execution_count": 6,
   "metadata": {},
   "outputs": [],
   "source": [
    "# 이진 컬럼 필터링\n",
    "binary_columns = label_df[label_df['범주 정보'] == '0: False, 1: True']['컬럼명'].tolist()\n",
    "\n",
    "# 범주형 컬럼에서 이진 컬럼 제거 \n",
    "categorical_columns = [col for col in categorical_columns if col not in binary_columns]"
   ]
  },
  {
   "cell_type": "code",
   "execution_count": 7,
   "metadata": {},
   "outputs": [
    {
     "name": "stdout",
     "output_type": "stream",
     "text": [
      "수치형 컬럼: 20\n",
      "범주형 컬럼: 26\n",
      "이진 컬럼: 21\n"
     ]
    }
   ],
   "source": [
    "print(f'수치형 컬럼: {len(numerical_columns)}')\n",
    "print(f'범주형 컬럼: {len(categorical_columns)}')\n",
    "print(f'이진 컬럼: {len(binary_columns)}')"
   ]
  },
  {
   "cell_type": "markdown",
   "metadata": {},
   "source": [
    "### D. Data Pre-processing"
   ]
  },
  {
   "cell_type": "code",
   "execution_count": 8,
   "metadata": {},
   "outputs": [],
   "source": [
    "# 원본 데이터 복사\n",
    "X_encoded = X.copy()\n",
    "\n",
    "# 범주형 컬럼(Label Encoding 적용)\n",
    "for col in categorical_columns:\n",
    "    if col in X_encoded.columns:  # 존재하는 컬럼만 처리\n",
    "        X_encoded[col] = X_encoded[col].fillna('missing').astype(str)  # 결측치 처리 + 문자열 변환\n",
    "        le = LabelEncoder()  # 컬럼별 새로운 LabelEncoder 인스턴스 생성\n",
    "        X_encoded[col] = le.fit_transform(X_encoded[col])\n",
    "\n",
    "# 이진 컬럼 & 수치형 컬럼은 원본 유지\n",
    "for col in binary_columns + numerical_columns:\n",
    "    if col in X_encoded.columns:\n",
    "        X_encoded[col] = X[col]"
   ]
  },
  {
   "cell_type": "code",
   "execution_count": 9,
   "metadata": {},
   "outputs": [],
   "source": [
    "X_encoded = X_encoded.fillna(0)"
   ]
  },
  {
   "cell_type": "code",
   "execution_count": 22,
   "metadata": {},
   "outputs": [],
   "source": [
    "test_encoded = test.copy()\n",
    "for col in categorical_columns:\n",
    "    if col in test_encoded.columns:  # 존재하는 컬럼만 처리\n",
    "        test_encoded[col] = test_encoded[col].fillna('missing').astype(str)  # 결측치 처리 + 문자열 변환\n",
    "        le = LabelEncoder()  # 컬럼별 새로운 LabelEncoder 인스턴스 생성\n",
    "        test_encoded[col] = le.fit_transform(test_encoded[col])\n",
    "\n",
    "# 이진 컬럼 & 수치형 컬럼은 원본 유지\n",
    "for col in binary_columns + numerical_columns:\n",
    "    if col in test_encoded.columns:\n",
    "        test_encoded[col] = X[col]"
   ]
  },
  {
   "cell_type": "code",
   "execution_count": 23,
   "metadata": {},
   "outputs": [],
   "source": [
    "test_encoded = test_encoded.fillna(0)"
   ]
  },
  {
   "cell_type": "markdown",
   "metadata": {},
   "source": [
    "### E. Train"
   ]
  },
  {
   "cell_type": "code",
   "execution_count": 11,
   "metadata": {},
   "outputs": [],
   "source": [
    "models = [\n",
    "    XGBClassifier(random_state=42),\n",
    "    LGBMClassifier(random_state=42),\n",
    "    CatBoostClassifier(random_state=42, verbose=False),\n",
    "    RandomForestClassifier(random_state=42),\n",
    "    ExtraTreesClassifier(random_state=42),\n",
    "    GradientBoostingClassifier(random_state=42),\n",
    "    AdaBoostClassifier(random_state=42),\n",
    "    DecisionTreeClassifier(random_state=42),\n",
    "    KNeighborsClassifier(),\n",
    "    LogisticRegression(random_state=42)\n",
    "]"
   ]
  },
  {
   "cell_type": "code",
   "execution_count": 13,
   "metadata": {},
   "outputs": [
    {
     "name": "stdout",
     "output_type": "stream",
     "text": [
      "데이터셋 크기: (256351, 67)\n",
      "\n",
      "K-fold 분할 정보:\n",
      "Fold  1 - 학습 데이터: 243533개, 검증 데이터:  12818개\n",
      "Fold  2 - 학습 데이터: 243533개, 검증 데이터:  12818개\n",
      "Fold  3 - 학습 데이터: 243533개, 검증 데이터:  12818개\n",
      "Fold  4 - 학습 데이터: 243533개, 검증 데이터:  12818개\n",
      "Fold  5 - 학습 데이터: 243533개, 검증 데이터:  12818개\n",
      "Fold  6 - 학습 데이터: 243533개, 검증 데이터:  12818개\n",
      "Fold  7 - 학습 데이터: 243533개, 검증 데이터:  12818개\n",
      "Fold  8 - 학습 데이터: 243533개, 검증 데이터:  12818개\n",
      "Fold  9 - 학습 데이터: 243533개, 검증 데이터:  12818개\n",
      "Fold 10 - 학습 데이터: 243533개, 검증 데이터:  12818개\n",
      "Fold 11 - 학습 데이터: 243533개, 검증 데이터:  12818개\n",
      "Fold 12 - 학습 데이터: 243534개, 검증 데이터:  12817개\n",
      "Fold 13 - 학습 데이터: 243534개, 검증 데이터:  12817개\n",
      "Fold 14 - 학습 데이터: 243534개, 검증 데이터:  12817개\n",
      "Fold 15 - 학습 데이터: 243534개, 검증 데이터:  12817개\n",
      "Fold 16 - 학습 데이터: 243534개, 검증 데이터:  12817개\n",
      "Fold 17 - 학습 데이터: 243534개, 검증 데이터:  12817개\n",
      "Fold 18 - 학습 데이터: 243534개, 검증 데이터:  12817개\n",
      "Fold 19 - 학습 데이터: 243534개, 검증 데이터:  12817개\n",
      "Fold 20 - 학습 데이터: 243534개, 검증 데이터:  12817개\n"
     ]
    }
   ],
   "source": [
    "from sklearn.model_selection import KFold\n",
    "\n",
    "kf = KFold(n_splits=20, shuffle=True, random_state=42)\n",
    "print(f\"데이터셋 크기: {X.shape}\")\n",
    "print(f\"\\nK-fold 분할 정보:\")\n",
    "for fold, (train_idx, val_idx) in enumerate(kf.split(X)):\n",
    "    print(f\"Fold {fold+1:2d} - 학습 데이터: {len(train_idx):6d}개, 검증 데이터: {len(val_idx):6d}개\")"
   ]
  },
  {
   "cell_type": "code",
   "execution_count": 19,
   "metadata": {},
   "outputs": [
    {
     "name": "stderr",
     "output_type": "stream",
     "text": [
      "XGBClassifier is running...:   5%|▌         | 1/20 [00:00<00:13,  1.43it/s]"
     ]
    },
    {
     "name": "stdout",
     "output_type": "stream",
     "text": [
      "Fold  2 - 정확도: 0.7496, ROC-AUC: 0.7395\n"
     ]
    },
    {
     "name": "stderr",
     "output_type": "stream",
     "text": [
      "XGBClassifier is running...:  10%|█         | 2/20 [00:01<00:12,  1.48it/s]"
     ]
    },
    {
     "name": "stdout",
     "output_type": "stream",
     "text": [
      "Fold  3 - 정확도: 0.7494, ROC-AUC: 0.7356\n"
     ]
    },
    {
     "name": "stderr",
     "output_type": "stream",
     "text": [
      "XGBClassifier is running...:  15%|█▌        | 3/20 [00:02<00:11,  1.49it/s]"
     ]
    },
    {
     "name": "stdout",
     "output_type": "stream",
     "text": [
      "Fold  4 - 정확도: 0.7447, ROC-AUC: 0.7303\n"
     ]
    },
    {
     "name": "stderr",
     "output_type": "stream",
     "text": [
      "XGBClassifier is running...:  20%|██        | 4/20 [00:02<00:10,  1.50it/s]"
     ]
    },
    {
     "name": "stdout",
     "output_type": "stream",
     "text": [
      "Fold  5 - 정확도: 0.7383, ROC-AUC: 0.7384\n"
     ]
    },
    {
     "name": "stderr",
     "output_type": "stream",
     "text": [
      "XGBClassifier is running...:  25%|██▌       | 5/20 [00:03<00:09,  1.51it/s]"
     ]
    },
    {
     "name": "stdout",
     "output_type": "stream",
     "text": [
      "Fold  6 - 정확도: 0.7411, ROC-AUC: 0.7336\n"
     ]
    },
    {
     "name": "stderr",
     "output_type": "stream",
     "text": [
      "XGBClassifier is running...:  30%|███       | 6/20 [00:04<00:09,  1.51it/s]"
     ]
    },
    {
     "name": "stdout",
     "output_type": "stream",
     "text": [
      "Fold  7 - 정확도: 0.7359, ROC-AUC: 0.7326\n"
     ]
    },
    {
     "name": "stderr",
     "output_type": "stream",
     "text": [
      "XGBClassifier is running...:  35%|███▌      | 7/20 [00:04<00:08,  1.48it/s]"
     ]
    },
    {
     "name": "stdout",
     "output_type": "stream",
     "text": [
      "Fold  8 - 정확도: 0.7455, ROC-AUC: 0.7386\n"
     ]
    },
    {
     "name": "stderr",
     "output_type": "stream",
     "text": [
      "XGBClassifier is running...:  40%|████      | 8/20 [00:05<00:08,  1.46it/s]"
     ]
    },
    {
     "name": "stdout",
     "output_type": "stream",
     "text": [
      "Fold  9 - 정확도: 0.7472, ROC-AUC: 0.7409\n"
     ]
    },
    {
     "name": "stderr",
     "output_type": "stream",
     "text": [
      "XGBClassifier is running...:  45%|████▌     | 9/20 [00:06<00:07,  1.45it/s]"
     ]
    },
    {
     "name": "stdout",
     "output_type": "stream",
     "text": [
      "Fold 10 - 정확도: 0.7483, ROC-AUC: 0.7408\n"
     ]
    },
    {
     "name": "stderr",
     "output_type": "stream",
     "text": [
      "XGBClassifier is running...:  50%|█████     | 10/20 [00:06<00:06,  1.43it/s]"
     ]
    },
    {
     "name": "stdout",
     "output_type": "stream",
     "text": [
      "Fold 11 - 정확도: 0.7367, ROC-AUC: 0.7308\n"
     ]
    },
    {
     "name": "stderr",
     "output_type": "stream",
     "text": [
      "XGBClassifier is running...:  55%|█████▌    | 11/20 [00:07<00:06,  1.41it/s]"
     ]
    },
    {
     "name": "stdout",
     "output_type": "stream",
     "text": [
      "Fold 12 - 정확도: 0.7428, ROC-AUC: 0.7290\n"
     ]
    },
    {
     "name": "stderr",
     "output_type": "stream",
     "text": [
      "XGBClassifier is running...:  60%|██████    | 12/20 [00:08<00:05,  1.40it/s]"
     ]
    },
    {
     "name": "stdout",
     "output_type": "stream",
     "text": [
      "Fold 13 - 정확도: 0.7444, ROC-AUC: 0.7424\n"
     ]
    },
    {
     "name": "stderr",
     "output_type": "stream",
     "text": [
      "XGBClassifier is running...:  65%|██████▌   | 13/20 [00:08<00:04,  1.43it/s]"
     ]
    },
    {
     "name": "stdout",
     "output_type": "stream",
     "text": [
      "Fold 14 - 정확도: 0.7467, ROC-AUC: 0.7429\n"
     ]
    },
    {
     "name": "stderr",
     "output_type": "stream",
     "text": [
      "XGBClassifier is running...:  70%|███████   | 14/20 [00:09<00:04,  1.42it/s]"
     ]
    },
    {
     "name": "stdout",
     "output_type": "stream",
     "text": [
      "Fold 15 - 정확도: 0.7382, ROC-AUC: 0.7390\n"
     ]
    },
    {
     "name": "stderr",
     "output_type": "stream",
     "text": [
      "XGBClassifier is running...:  75%|███████▌  | 15/20 [00:10<00:03,  1.41it/s]"
     ]
    },
    {
     "name": "stdout",
     "output_type": "stream",
     "text": [
      "Fold 16 - 정확도: 0.7490, ROC-AUC: 0.7350\n"
     ]
    },
    {
     "name": "stderr",
     "output_type": "stream",
     "text": [
      "XGBClassifier is running...:  80%|████████  | 16/20 [00:11<00:02,  1.39it/s]"
     ]
    },
    {
     "name": "stdout",
     "output_type": "stream",
     "text": [
      "Fold 17 - 정확도: 0.7492, ROC-AUC: 0.7291\n"
     ]
    },
    {
     "name": "stderr",
     "output_type": "stream",
     "text": [
      "XGBClassifier is running...:  85%|████████▌ | 17/20 [00:11<00:02,  1.41it/s]"
     ]
    },
    {
     "name": "stdout",
     "output_type": "stream",
     "text": [
      "Fold 18 - 정확도: 0.7494, ROC-AUC: 0.7430\n"
     ]
    },
    {
     "name": "stderr",
     "output_type": "stream",
     "text": [
      "XGBClassifier is running...:  90%|█████████ | 18/20 [00:12<00:01,  1.40it/s]"
     ]
    },
    {
     "name": "stdout",
     "output_type": "stream",
     "text": [
      "Fold 19 - 정확도: 0.7433, ROC-AUC: 0.7400\n"
     ]
    },
    {
     "name": "stderr",
     "output_type": "stream",
     "text": [
      "XGBClassifier is running...:  95%|█████████▌| 19/20 [00:13<00:00,  1.39it/s]"
     ]
    },
    {
     "name": "stdout",
     "output_type": "stream",
     "text": [
      "Fold 20 - 정확도: 0.7428, ROC-AUC: 0.7377\n"
     ]
    },
    {
     "name": "stderr",
     "output_type": "stream",
     "text": [
      "XGBClassifier is running...: 100%|██████████| 20/20 [00:13<00:00,  1.43it/s]\n"
     ]
    },
    {
     "name": "stdout",
     "output_type": "stream",
     "text": [
      "Fold 21 - 정확도: 0.7484, ROC-AUC: 0.7414\n",
      "XGBClassifier - 평균 정확도: 0.7445, 평균 ROC-AUC: 0.7370\n"
     ]
    },
    {
     "name": "stderr",
     "output_type": "stream",
     "text": [
      "LGBMClassifier is running...:   0%|          | 0/20 [00:00<?, ?it/s]"
     ]
    },
    {
     "name": "stdout",
     "output_type": "stream",
     "text": [
      "[LightGBM] [Warning] Found whitespace in feature_names, replace with underlines\n",
      "[LightGBM] [Info] Number of positive: 62999, number of negative: 180534\n",
      "[LightGBM] [Info] Auto-choosing row-wise multi-threading, the overhead of testing was 0.018832 seconds.\n",
      "You can set `force_row_wise=true` to remove the overhead.\n",
      "And if memory is not enough, you can set `force_col_wise=true`.\n",
      "[LightGBM] [Info] Total Bins 713\n",
      "[LightGBM] [Info] Number of data points in the train set: 243533, number of used features: 62\n",
      "[LightGBM] [Info] [binary:BoostFromScore]: pavg=0.258688 -> initscore=-1.052800\n",
      "[LightGBM] [Info] Start training from score -1.052800\n"
     ]
    },
    {
     "name": "stderr",
     "output_type": "stream",
     "text": [
      "LGBMClassifier is running...:   5%|▌         | 1/20 [00:01<00:21,  1.12s/it]"
     ]
    },
    {
     "name": "stdout",
     "output_type": "stream",
     "text": [
      "Fold  2 - 정확도: 0.7543, ROC-AUC: 0.7440\n",
      "[LightGBM] [Warning] Found whitespace in feature_names, replace with underlines\n",
      "[LightGBM] [Info] Number of positive: 62956, number of negative: 180577\n",
      "[LightGBM] [Info] Auto-choosing row-wise multi-threading, the overhead of testing was 0.015168 seconds.\n",
      "You can set `force_row_wise=true` to remove the overhead.\n",
      "And if memory is not enough, you can set `force_col_wise=true`.\n",
      "[LightGBM] [Info] Total Bins 719\n",
      "[LightGBM] [Info] Number of data points in the train set: 243533, number of used features: 62\n",
      "[LightGBM] [Info] [binary:BoostFromScore]: pavg=0.258511 -> initscore=-1.053721\n",
      "[LightGBM] [Info] Start training from score -1.053721\n"
     ]
    },
    {
     "name": "stderr",
     "output_type": "stream",
     "text": [
      "LGBMClassifier is running...:  10%|█         | 2/20 [00:02<00:19,  1.09s/it]"
     ]
    },
    {
     "name": "stdout",
     "output_type": "stream",
     "text": [
      "Fold  3 - 정확도: 0.7496, ROC-AUC: 0.7374\n",
      "[LightGBM] [Warning] Found whitespace in feature_names, replace with underlines\n",
      "[LightGBM] [Info] Number of positive: 62964, number of negative: 180569\n",
      "[LightGBM] [Info] Auto-choosing row-wise multi-threading, the overhead of testing was 0.016292 seconds.\n",
      "You can set `force_row_wise=true` to remove the overhead.\n",
      "And if memory is not enough, you can set `force_col_wise=true`.\n",
      "[LightGBM] [Info] Total Bins 716\n",
      "[LightGBM] [Info] Number of data points in the train set: 243533, number of used features: 62\n",
      "[LightGBM] [Info] [binary:BoostFromScore]: pavg=0.258544 -> initscore=-1.053550\n",
      "[LightGBM] [Info] Start training from score -1.053550\n"
     ]
    },
    {
     "name": "stderr",
     "output_type": "stream",
     "text": [
      "LGBMClassifier is running...:  15%|█▌        | 3/20 [00:03<00:18,  1.10s/it]"
     ]
    },
    {
     "name": "stdout",
     "output_type": "stream",
     "text": [
      "Fold  4 - 정확도: 0.7462, ROC-AUC: 0.7318\n",
      "[LightGBM] [Warning] Found whitespace in feature_names, replace with underlines\n",
      "[LightGBM] [Info] Number of positive: 62867, number of negative: 180666\n",
      "[LightGBM] [Info] Auto-choosing row-wise multi-threading, the overhead of testing was 0.017007 seconds.\n",
      "You can set `force_row_wise=true` to remove the overhead.\n",
      "And if memory is not enough, you can set `force_col_wise=true`.\n",
      "[LightGBM] [Info] Total Bins 710\n",
      "[LightGBM] [Info] Number of data points in the train set: 243533, number of used features: 62\n",
      "[LightGBM] [Info] [binary:BoostFromScore]: pavg=0.258146 -> initscore=-1.055629\n",
      "[LightGBM] [Info] Start training from score -1.055629\n"
     ]
    },
    {
     "name": "stderr",
     "output_type": "stream",
     "text": [
      "LGBMClassifier is running...:  20%|██        | 4/20 [00:04<00:17,  1.08s/it]"
     ]
    },
    {
     "name": "stdout",
     "output_type": "stream",
     "text": [
      "Fold  5 - 정확도: 0.7436, ROC-AUC: 0.7419\n",
      "[LightGBM] [Warning] Found whitespace in feature_names, replace with underlines\n",
      "[LightGBM] [Info] Number of positive: 62870, number of negative: 180663\n",
      "[LightGBM] [Info] Auto-choosing row-wise multi-threading, the overhead of testing was 0.018989 seconds.\n",
      "You can set `force_row_wise=true` to remove the overhead.\n",
      "And if memory is not enough, you can set `force_col_wise=true`.\n",
      "[LightGBM] [Info] Total Bins 716\n",
      "[LightGBM] [Info] Number of data points in the train set: 243533, number of used features: 62\n",
      "[LightGBM] [Info] [binary:BoostFromScore]: pavg=0.258158 -> initscore=-1.055564\n",
      "[LightGBM] [Info] Start training from score -1.055564\n"
     ]
    },
    {
     "name": "stderr",
     "output_type": "stream",
     "text": [
      "LGBMClassifier is running...:  25%|██▌       | 5/20 [00:05<00:16,  1.07s/it]"
     ]
    },
    {
     "name": "stdout",
     "output_type": "stream",
     "text": [
      "Fold  6 - 정확도: 0.7404, ROC-AUC: 0.7350\n",
      "[LightGBM] [Warning] Found whitespace in feature_names, replace with underlines\n",
      "[LightGBM] [Info] Number of positive: 62823, number of negative: 180710\n",
      "[LightGBM] [Info] Auto-choosing row-wise multi-threading, the overhead of testing was 0.021534 seconds.\n",
      "You can set `force_row_wise=true` to remove the overhead.\n",
      "And if memory is not enough, you can set `force_col_wise=true`.\n",
      "[LightGBM] [Info] Total Bins 715\n",
      "[LightGBM] [Info] Number of data points in the train set: 243533, number of used features: 62\n",
      "[LightGBM] [Info] [binary:BoostFromScore]: pavg=0.257965 -> initscore=-1.056572\n",
      "[LightGBM] [Info] Start training from score -1.056572\n"
     ]
    },
    {
     "name": "stderr",
     "output_type": "stream",
     "text": [
      "LGBMClassifier is running...:  30%|███       | 6/20 [00:06<00:15,  1.07s/it]"
     ]
    },
    {
     "name": "stdout",
     "output_type": "stream",
     "text": [
      "Fold  7 - 정확도: 0.7368, ROC-AUC: 0.7355\n",
      "[LightGBM] [Warning] Found whitespace in feature_names, replace with underlines\n",
      "[LightGBM] [Info] Number of positive: 62918, number of negative: 180615\n",
      "[LightGBM] [Info] Auto-choosing row-wise multi-threading, the overhead of testing was 0.015906 seconds.\n",
      "You can set `force_row_wise=true` to remove the overhead.\n",
      "And if memory is not enough, you can set `force_col_wise=true`.\n",
      "[LightGBM] [Info] Total Bins 724\n",
      "[LightGBM] [Info] Number of data points in the train set: 243533, number of used features: 62\n",
      "[LightGBM] [Info] [binary:BoostFromScore]: pavg=0.258355 -> initscore=-1.054535\n",
      "[LightGBM] [Info] Start training from score -1.054535\n"
     ]
    },
    {
     "name": "stderr",
     "output_type": "stream",
     "text": [
      "LGBMClassifier is running...:  35%|███▌      | 7/20 [00:07<00:13,  1.07s/it]"
     ]
    },
    {
     "name": "stdout",
     "output_type": "stream",
     "text": [
      "Fold  8 - 정확도: 0.7453, ROC-AUC: 0.7417\n",
      "[LightGBM] [Warning] Found whitespace in feature_names, replace with underlines\n",
      "[LightGBM] [Info] Number of positive: 62949, number of negative: 180584\n",
      "[LightGBM] [Info] Auto-choosing row-wise multi-threading, the overhead of testing was 0.018429 seconds.\n",
      "You can set `force_row_wise=true` to remove the overhead.\n",
      "And if memory is not enough, you can set `force_col_wise=true`.\n",
      "[LightGBM] [Info] Total Bins 714\n",
      "[LightGBM] [Info] Number of data points in the train set: 243533, number of used features: 62\n",
      "[LightGBM] [Info] [binary:BoostFromScore]: pavg=0.258482 -> initscore=-1.053871\n",
      "[LightGBM] [Info] Start training from score -1.053871\n"
     ]
    },
    {
     "name": "stderr",
     "output_type": "stream",
     "text": [
      "LGBMClassifier is running...:  40%|████      | 8/20 [00:08<00:13,  1.09s/it]"
     ]
    },
    {
     "name": "stdout",
     "output_type": "stream",
     "text": [
      "Fold  9 - 정확도: 0.7496, ROC-AUC: 0.7428\n",
      "[LightGBM] [Warning] Found whitespace in feature_names, replace with underlines\n",
      "[LightGBM] [Info] Number of positive: 62938, number of negative: 180595\n",
      "[LightGBM] [Info] Auto-choosing row-wise multi-threading, the overhead of testing was 0.019580 seconds.\n",
      "You can set `force_row_wise=true` to remove the overhead.\n",
      "And if memory is not enough, you can set `force_col_wise=true`.\n",
      "[LightGBM] [Info] Total Bins 714\n",
      "[LightGBM] [Info] Number of data points in the train set: 243533, number of used features: 62\n",
      "[LightGBM] [Info] [binary:BoostFromScore]: pavg=0.258437 -> initscore=-1.054107\n",
      "[LightGBM] [Info] Start training from score -1.054107\n"
     ]
    },
    {
     "name": "stderr",
     "output_type": "stream",
     "text": [
      "LGBMClassifier is running...:  45%|████▌     | 9/20 [00:09<00:12,  1.10s/it]"
     ]
    },
    {
     "name": "stdout",
     "output_type": "stream",
     "text": [
      "Fold 10 - 정확도: 0.7491, ROC-AUC: 0.7429\n",
      "[LightGBM] [Warning] Found whitespace in feature_names, replace with underlines\n",
      "[LightGBM] [Info] Number of positive: 62828, number of negative: 180705\n",
      "[LightGBM] [Info] Auto-choosing row-wise multi-threading, the overhead of testing was 0.014100 seconds.\n",
      "You can set `force_row_wise=true` to remove the overhead.\n",
      "And if memory is not enough, you can set `force_col_wise=true`.\n",
      "[LightGBM] [Info] Total Bins 712\n",
      "[LightGBM] [Info] Number of data points in the train set: 243533, number of used features: 62\n",
      "[LightGBM] [Info] [binary:BoostFromScore]: pavg=0.257986 -> initscore=-1.056465\n",
      "[LightGBM] [Info] Start training from score -1.056465\n"
     ]
    },
    {
     "name": "stderr",
     "output_type": "stream",
     "text": [
      "LGBMClassifier is running...:  50%|█████     | 10/20 [00:10<00:11,  1.11s/it]"
     ]
    },
    {
     "name": "stdout",
     "output_type": "stream",
     "text": [
      "Fold 11 - 정확도: 0.7360, ROC-AUC: 0.7313\n",
      "[LightGBM] [Warning] Found whitespace in feature_names, replace with underlines\n",
      "[LightGBM] [Info] Number of positive: 62940, number of negative: 180593\n",
      "[LightGBM] [Info] Auto-choosing row-wise multi-threading, the overhead of testing was 0.015024 seconds.\n",
      "You can set `force_row_wise=true` to remove the overhead.\n",
      "And if memory is not enough, you can set `force_col_wise=true`.\n",
      "[LightGBM] [Info] Total Bins 716\n",
      "[LightGBM] [Info] Number of data points in the train set: 243533, number of used features: 62\n",
      "[LightGBM] [Info] [binary:BoostFromScore]: pavg=0.258445 -> initscore=-1.054064\n",
      "[LightGBM] [Info] Start training from score -1.054064\n"
     ]
    },
    {
     "name": "stderr",
     "output_type": "stream",
     "text": [
      "LGBMClassifier is running...:  55%|█████▌    | 11/20 [00:12<00:09,  1.11s/it]"
     ]
    },
    {
     "name": "stdout",
     "output_type": "stream",
     "text": [
      "Fold 12 - 정확도: 0.7471, ROC-AUC: 0.7316\n",
      "[LightGBM] [Warning] Found whitespace in feature_names, replace with underlines\n",
      "[LightGBM] [Info] Number of positive: 62883, number of negative: 180651\n",
      "[LightGBM] [Info] Auto-choosing row-wise multi-threading, the overhead of testing was 0.018831 seconds.\n",
      "You can set `force_row_wise=true` to remove the overhead.\n",
      "And if memory is not enough, you can set `force_col_wise=true`.\n",
      "[LightGBM] [Info] Total Bins 714\n",
      "[LightGBM] [Info] Number of data points in the train set: 243534, number of used features: 62\n",
      "[LightGBM] [Info] [binary:BoostFromScore]: pavg=0.258210 -> initscore=-1.055291\n",
      "[LightGBM] [Info] Start training from score -1.055291\n"
     ]
    },
    {
     "name": "stderr",
     "output_type": "stream",
     "text": [
      "LGBMClassifier is running...:  60%|██████    | 12/20 [00:13<00:08,  1.10s/it]"
     ]
    },
    {
     "name": "stdout",
     "output_type": "stream",
     "text": [
      "Fold 13 - 정확도: 0.7436, ROC-AUC: 0.7439\n",
      "[LightGBM] [Warning] Found whitespace in feature_names, replace with underlines\n",
      "[LightGBM] [Info] Number of positive: 62929, number of negative: 180605\n",
      "[LightGBM] [Info] Auto-choosing row-wise multi-threading, the overhead of testing was 0.016033 seconds.\n",
      "You can set `force_row_wise=true` to remove the overhead.\n",
      "And if memory is not enough, you can set `force_col_wise=true`.\n",
      "[LightGBM] [Info] Total Bins 714\n",
      "[LightGBM] [Info] Number of data points in the train set: 243534, number of used features: 62\n",
      "[LightGBM] [Info] [binary:BoostFromScore]: pavg=0.258399 -> initscore=-1.054305\n",
      "[LightGBM] [Info] Start training from score -1.054305\n"
     ]
    },
    {
     "name": "stderr",
     "output_type": "stream",
     "text": [
      "LGBMClassifier is running...:  65%|██████▌   | 13/20 [00:14<00:07,  1.06s/it]"
     ]
    },
    {
     "name": "stdout",
     "output_type": "stream",
     "text": [
      "Fold 14 - 정확도: 0.7483, ROC-AUC: 0.7457\n",
      "[LightGBM] [Warning] Found whitespace in feature_names, replace with underlines\n",
      "[LightGBM] [Info] Number of positive: 62831, number of negative: 180703\n",
      "[LightGBM] [Info] Auto-choosing row-wise multi-threading, the overhead of testing was 0.018560 seconds.\n",
      "You can set `force_row_wise=true` to remove the overhead.\n",
      "And if memory is not enough, you can set `force_col_wise=true`.\n",
      "[LightGBM] [Info] Total Bins 716\n",
      "[LightGBM] [Info] Number of data points in the train set: 243534, number of used features: 62\n",
      "[LightGBM] [Info] [binary:BoostFromScore]: pavg=0.257997 -> initscore=-1.056406\n",
      "[LightGBM] [Info] Start training from score -1.056406\n"
     ]
    },
    {
     "name": "stderr",
     "output_type": "stream",
     "text": [
      "LGBMClassifier is running...:  70%|███████   | 14/20 [00:14<00:06,  1.00s/it]"
     ]
    },
    {
     "name": "stdout",
     "output_type": "stream",
     "text": [
      "Fold 15 - 정확도: 0.7396, ROC-AUC: 0.7424\n",
      "[LightGBM] [Warning] Found whitespace in feature_names, replace with underlines\n",
      "[LightGBM] [Info] Number of positive: 62988, number of negative: 180546\n",
      "[LightGBM] [Info] Auto-choosing row-wise multi-threading, the overhead of testing was 0.019374 seconds.\n",
      "You can set `force_row_wise=true` to remove the overhead.\n",
      "And if memory is not enough, you can set `force_col_wise=true`.\n",
      "[LightGBM] [Info] Total Bins 720\n",
      "[LightGBM] [Info] Number of data points in the train set: 243534, number of used features: 62\n",
      "[LightGBM] [Info] [binary:BoostFromScore]: pavg=0.258642 -> initscore=-1.053041\n",
      "[LightGBM] [Info] Start training from score -1.053041\n"
     ]
    },
    {
     "name": "stderr",
     "output_type": "stream",
     "text": [
      "LGBMClassifier is running...:  75%|███████▌  | 15/20 [00:15<00:04,  1.04it/s]"
     ]
    },
    {
     "name": "stdout",
     "output_type": "stream",
     "text": [
      "Fold 16 - 정확도: 0.7515, ROC-AUC: 0.7390\n",
      "[LightGBM] [Warning] Found whitespace in feature_names, replace with underlines\n",
      "[LightGBM] [Info] Number of positive: 62987, number of negative: 180547\n",
      "[LightGBM] [Info] Auto-choosing row-wise multi-threading, the overhead of testing was 0.017938 seconds.\n",
      "You can set `force_row_wise=true` to remove the overhead.\n",
      "And if memory is not enough, you can set `force_col_wise=true`.\n",
      "[LightGBM] [Info] Total Bins 717\n",
      "[LightGBM] [Info] Number of data points in the train set: 243534, number of used features: 62\n",
      "[LightGBM] [Info] [binary:BoostFromScore]: pavg=0.258637 -> initscore=-1.053063\n",
      "[LightGBM] [Info] Start training from score -1.053063\n"
     ]
    },
    {
     "name": "stderr",
     "output_type": "stream",
     "text": [
      "LGBMClassifier is running...:  80%|████████  | 16/20 [00:16<00:03,  1.08it/s]"
     ]
    },
    {
     "name": "stdout",
     "output_type": "stream",
     "text": [
      "Fold 17 - 정확도: 0.7488, ROC-AUC: 0.7321\n",
      "[LightGBM] [Warning] Found whitespace in feature_names, replace with underlines\n",
      "[LightGBM] [Info] Number of positive: 62969, number of negative: 180565\n",
      "[LightGBM] [Info] Auto-choosing row-wise multi-threading, the overhead of testing was 0.018414 seconds.\n",
      "You can set `force_row_wise=true` to remove the overhead.\n",
      "And if memory is not enough, you can set `force_col_wise=true`.\n",
      "[LightGBM] [Info] Total Bins 718\n",
      "[LightGBM] [Info] Number of data points in the train set: 243534, number of used features: 62\n",
      "[LightGBM] [Info] [binary:BoostFromScore]: pavg=0.258563 -> initscore=-1.053448\n",
      "[LightGBM] [Info] Start training from score -1.053448\n"
     ]
    },
    {
     "name": "stderr",
     "output_type": "stream",
     "text": [
      "LGBMClassifier is running...:  85%|████████▌ | 17/20 [00:17<00:02,  1.09it/s]"
     ]
    },
    {
     "name": "stdout",
     "output_type": "stream",
     "text": [
      "Fold 18 - 정확도: 0.7498, ROC-AUC: 0.7433\n",
      "[LightGBM] [Warning] Found whitespace in feature_names, replace with underlines\n",
      "[LightGBM] [Info] Number of positive: 62900, number of negative: 180634\n",
      "[LightGBM] [Info] Auto-choosing row-wise multi-threading, the overhead of testing was 0.020088 seconds.\n",
      "You can set `force_row_wise=true` to remove the overhead.\n",
      "And if memory is not enough, you can set `force_col_wise=true`.\n",
      "[LightGBM] [Info] Total Bins 717\n",
      "[LightGBM] [Info] Number of data points in the train set: 243534, number of used features: 62\n",
      "[LightGBM] [Info] [binary:BoostFromScore]: pavg=0.258280 -> initscore=-1.054927\n",
      "[LightGBM] [Info] Start training from score -1.054927\n"
     ]
    },
    {
     "name": "stderr",
     "output_type": "stream",
     "text": [
      "LGBMClassifier is running...:  90%|█████████ | 18/20 [00:18<00:01,  1.04it/s]"
     ]
    },
    {
     "name": "stdout",
     "output_type": "stream",
     "text": [
      "Fold 19 - 정확도: 0.7458, ROC-AUC: 0.7420\n",
      "[LightGBM] [Warning] Found whitespace in feature_names, replace with underlines\n",
      "[LightGBM] [Info] Number of positive: 62864, number of negative: 180670\n",
      "[LightGBM] [Info] Auto-choosing row-wise multi-threading, the overhead of testing was 0.019029 seconds.\n",
      "You can set `force_row_wise=true` to remove the overhead.\n",
      "And if memory is not enough, you can set `force_col_wise=true`.\n",
      "[LightGBM] [Info] Total Bins 717\n",
      "[LightGBM] [Info] Number of data points in the train set: 243534, number of used features: 62\n",
      "[LightGBM] [Info] [binary:BoostFromScore]: pavg=0.258132 -> initscore=-1.055698\n",
      "[LightGBM] [Info] Start training from score -1.055698\n"
     ]
    },
    {
     "name": "stderr",
     "output_type": "stream",
     "text": [
      "LGBMClassifier is running...:  95%|█████████▌| 19/20 [00:19<00:00,  1.02it/s]"
     ]
    },
    {
     "name": "stdout",
     "output_type": "stream",
     "text": [
      "Fold 20 - 정확도: 0.7438, ROC-AUC: 0.7401\n",
      "[LightGBM] [Warning] Found whitespace in feature_names, replace with underlines\n",
      "[LightGBM] [Info] Number of positive: 62929, number of negative: 180605\n",
      "[LightGBM] [Info] Auto-choosing row-wise multi-threading, the overhead of testing was 0.018486 seconds.\n",
      "You can set `force_row_wise=true` to remove the overhead.\n",
      "And if memory is not enough, you can set `force_col_wise=true`.\n",
      "[LightGBM] [Info] Total Bins 712\n",
      "[LightGBM] [Info] Number of data points in the train set: 243534, number of used features: 62\n",
      "[LightGBM] [Info] [binary:BoostFromScore]: pavg=0.258399 -> initscore=-1.054305\n",
      "[LightGBM] [Info] Start training from score -1.054305\n"
     ]
    },
    {
     "name": "stderr",
     "output_type": "stream",
     "text": [
      "LGBMClassifier is running...: 100%|██████████| 20/20 [00:20<00:00,  1.03s/it]\n"
     ]
    },
    {
     "name": "stdout",
     "output_type": "stream",
     "text": [
      "Fold 21 - 정확도: 0.7459, ROC-AUC: 0.7437\n",
      "LGBMClassifier - 평균 정확도: 0.7457, 평균 ROC-AUC: 0.7394\n"
     ]
    },
    {
     "name": "stderr",
     "output_type": "stream",
     "text": [
      "CatBoostClassifier is running...:   5%|▌         | 1/20 [00:15<04:50, 15.27s/it]"
     ]
    },
    {
     "name": "stdout",
     "output_type": "stream",
     "text": [
      "Fold  2 - 정확도: 0.7511, ROC-AUC: 0.7407\n"
     ]
    },
    {
     "name": "stderr",
     "output_type": "stream",
     "text": [
      "CatBoostClassifier is running...:  10%|█         | 2/20 [00:30<04:33, 15.19s/it]"
     ]
    },
    {
     "name": "stdout",
     "output_type": "stream",
     "text": [
      "Fold  3 - 정확도: 0.7497, ROC-AUC: 0.7367\n"
     ]
    },
    {
     "name": "stderr",
     "output_type": "stream",
     "text": [
      "CatBoostClassifier is running...:  15%|█▌        | 3/20 [00:44<04:09, 14.71s/it]"
     ]
    },
    {
     "name": "stdout",
     "output_type": "stream",
     "text": [
      "Fold  4 - 정확도: 0.7443, ROC-AUC: 0.7292\n"
     ]
    },
    {
     "name": "stderr",
     "output_type": "stream",
     "text": [
      "CatBoostClassifier is running...:  20%|██        | 4/20 [00:58<03:49, 14.34s/it]"
     ]
    },
    {
     "name": "stdout",
     "output_type": "stream",
     "text": [
      "Fold  5 - 정확도: 0.7399, ROC-AUC: 0.7388\n"
     ]
    },
    {
     "name": "stderr",
     "output_type": "stream",
     "text": [
      "CatBoostClassifier is running...:  25%|██▌       | 5/20 [01:12<03:32, 14.16s/it]"
     ]
    },
    {
     "name": "stdout",
     "output_type": "stream",
     "text": [
      "Fold  6 - 정확도: 0.7402, ROC-AUC: 0.7355\n"
     ]
    },
    {
     "name": "stderr",
     "output_type": "stream",
     "text": [
      "CatBoostClassifier is running...:  30%|███       | 6/20 [01:25<03:16, 14.04s/it]"
     ]
    },
    {
     "name": "stdout",
     "output_type": "stream",
     "text": [
      "Fold  7 - 정확도: 0.7365, ROC-AUC: 0.7341\n"
     ]
    },
    {
     "name": "stderr",
     "output_type": "stream",
     "text": [
      "CatBoostClassifier is running...:  35%|███▌      | 7/20 [01:39<03:00, 13.90s/it]"
     ]
    },
    {
     "name": "stdout",
     "output_type": "stream",
     "text": [
      "Fold  8 - 정확도: 0.7442, ROC-AUC: 0.7386\n"
     ]
    },
    {
     "name": "stderr",
     "output_type": "stream",
     "text": [
      "CatBoostClassifier is running...:  40%|████      | 8/20 [01:53<02:47, 13.95s/it]"
     ]
    },
    {
     "name": "stdout",
     "output_type": "stream",
     "text": [
      "Fold  9 - 정확도: 0.7476, ROC-AUC: 0.7406\n"
     ]
    },
    {
     "name": "stderr",
     "output_type": "stream",
     "text": [
      "CatBoostClassifier is running...:  45%|████▌     | 9/20 [02:07<02:32, 13.84s/it]"
     ]
    },
    {
     "name": "stdout",
     "output_type": "stream",
     "text": [
      "Fold 10 - 정확도: 0.7501, ROC-AUC: 0.7398\n"
     ]
    },
    {
     "name": "stderr",
     "output_type": "stream",
     "text": [
      "CatBoostClassifier is running...:  50%|█████     | 10/20 [02:21<02:18, 13.88s/it]"
     ]
    },
    {
     "name": "stdout",
     "output_type": "stream",
     "text": [
      "Fold 11 - 정확도: 0.7335, ROC-AUC: 0.7305\n"
     ]
    },
    {
     "name": "stderr",
     "output_type": "stream",
     "text": [
      "CatBoostClassifier is running...:  55%|█████▌    | 11/20 [02:35<02:04, 13.88s/it]"
     ]
    },
    {
     "name": "stdout",
     "output_type": "stream",
     "text": [
      "Fold 12 - 정확도: 0.7472, ROC-AUC: 0.7298\n"
     ]
    },
    {
     "name": "stderr",
     "output_type": "stream",
     "text": [
      "CatBoostClassifier is running...:  60%|██████    | 12/20 [02:48<01:50, 13.80s/it]"
     ]
    },
    {
     "name": "stdout",
     "output_type": "stream",
     "text": [
      "Fold 13 - 정확도: 0.7454, ROC-AUC: 0.7439\n"
     ]
    },
    {
     "name": "stderr",
     "output_type": "stream",
     "text": [
      "CatBoostClassifier is running...:  65%|██████▌   | 13/20 [03:02<01:36, 13.76s/it]"
     ]
    },
    {
     "name": "stdout",
     "output_type": "stream",
     "text": [
      "Fold 14 - 정확도: 0.7485, ROC-AUC: 0.7424\n"
     ]
    },
    {
     "name": "stderr",
     "output_type": "stream",
     "text": [
      "CatBoostClassifier is running...:  70%|███████   | 14/20 [03:16<01:23, 13.84s/it]"
     ]
    },
    {
     "name": "stdout",
     "output_type": "stream",
     "text": [
      "Fold 15 - 정확도: 0.7378, ROC-AUC: 0.7401\n"
     ]
    },
    {
     "name": "stderr",
     "output_type": "stream",
     "text": [
      "CatBoostClassifier is running...:  75%|███████▌  | 15/20 [03:30<01:09, 13.97s/it]"
     ]
    },
    {
     "name": "stdout",
     "output_type": "stream",
     "text": [
      "Fold 16 - 정확도: 0.7504, ROC-AUC: 0.7377\n"
     ]
    },
    {
     "name": "stderr",
     "output_type": "stream",
     "text": [
      "CatBoostClassifier is running...:  80%|████████  | 16/20 [03:44<00:55, 13.91s/it]"
     ]
    },
    {
     "name": "stdout",
     "output_type": "stream",
     "text": [
      "Fold 17 - 정확도: 0.7488, ROC-AUC: 0.7300\n"
     ]
    },
    {
     "name": "stderr",
     "output_type": "stream",
     "text": [
      "CatBoostClassifier is running...:  85%|████████▌ | 17/20 [03:58<00:41, 13.91s/it]"
     ]
    },
    {
     "name": "stdout",
     "output_type": "stream",
     "text": [
      "Fold 18 - 정확도: 0.7488, ROC-AUC: 0.7420\n"
     ]
    },
    {
     "name": "stderr",
     "output_type": "stream",
     "text": [
      "CatBoostClassifier is running...:  90%|█████████ | 18/20 [04:12<00:27, 13.84s/it]"
     ]
    },
    {
     "name": "stdout",
     "output_type": "stream",
     "text": [
      "Fold 19 - 정확도: 0.7465, ROC-AUC: 0.7403\n"
     ]
    },
    {
     "name": "stderr",
     "output_type": "stream",
     "text": [
      "CatBoostClassifier is running...:  95%|█████████▌| 19/20 [04:25<00:13, 13.76s/it]"
     ]
    },
    {
     "name": "stdout",
     "output_type": "stream",
     "text": [
      "Fold 20 - 정확도: 0.7428, ROC-AUC: 0.7397\n"
     ]
    },
    {
     "name": "stderr",
     "output_type": "stream",
     "text": [
      "CatBoostClassifier is running...: 100%|██████████| 20/20 [04:38<00:00, 13.93s/it]\n"
     ]
    },
    {
     "name": "stdout",
     "output_type": "stream",
     "text": [
      "Fold 21 - 정확도: 0.7474, ROC-AUC: 0.7439\n",
      "CatBoostClassifier - 평균 정확도: 0.7450, 평균 ROC-AUC: 0.7377\n"
     ]
    },
    {
     "name": "stderr",
     "output_type": "stream",
     "text": [
      "RandomForestClassifier is running...:   5%|▌         | 1/20 [00:41<13:03, 41.23s/it]"
     ]
    },
    {
     "name": "stdout",
     "output_type": "stream",
     "text": [
      "Fold  2 - 정확도: 0.7312, ROC-AUC: 0.7077\n"
     ]
    },
    {
     "name": "stderr",
     "output_type": "stream",
     "text": [
      "RandomForestClassifier is running...:  10%|█         | 2/20 [01:21<12:14, 40.81s/it]"
     ]
    },
    {
     "name": "stdout",
     "output_type": "stream",
     "text": [
      "Fold  3 - 정확도: 0.7277, ROC-AUC: 0.6986\n"
     ]
    },
    {
     "name": "stderr",
     "output_type": "stream",
     "text": [
      "RandomForestClassifier is running...:  15%|█▌        | 3/20 [02:00<11:18, 39.92s/it]"
     ]
    },
    {
     "name": "stdout",
     "output_type": "stream",
     "text": [
      "Fold  4 - 정확도: 0.7258, ROC-AUC: 0.6979\n"
     ]
    },
    {
     "name": "stderr",
     "output_type": "stream",
     "text": [
      "RandomForestClassifier is running...:  20%|██        | 4/20 [02:39<10:30, 39.43s/it]"
     ]
    },
    {
     "name": "stdout",
     "output_type": "stream",
     "text": [
      "Fold  5 - 정확도: 0.7229, ROC-AUC: 0.7104\n"
     ]
    },
    {
     "name": "stderr",
     "output_type": "stream",
     "text": [
      "RandomForestClassifier is running...:  25%|██▌       | 5/20 [03:18<09:48, 39.23s/it]"
     ]
    },
    {
     "name": "stdout",
     "output_type": "stream",
     "text": [
      "Fold  6 - 정확도: 0.7190, ROC-AUC: 0.6922\n"
     ]
    },
    {
     "name": "stderr",
     "output_type": "stream",
     "text": [
      "RandomForestClassifier is running...:  30%|███       | 6/20 [04:00<09:25, 40.42s/it]"
     ]
    },
    {
     "name": "stdout",
     "output_type": "stream",
     "text": [
      "Fold  7 - 정확도: 0.7195, ROC-AUC: 0.6935\n"
     ]
    },
    {
     "name": "stderr",
     "output_type": "stream",
     "text": [
      "RandomForestClassifier is running...:  35%|███▌      | 7/20 [04:40<08:39, 40.00s/it]"
     ]
    },
    {
     "name": "stdout",
     "output_type": "stream",
     "text": [
      "Fold  8 - 정확도: 0.7292, ROC-AUC: 0.7042\n"
     ]
    },
    {
     "name": "stderr",
     "output_type": "stream",
     "text": [
      "RandomForestClassifier is running...:  40%|████      | 8/20 [05:21<08:07, 40.63s/it]"
     ]
    },
    {
     "name": "stdout",
     "output_type": "stream",
     "text": [
      "Fold  9 - 정확도: 0.7234, ROC-AUC: 0.7060\n"
     ]
    },
    {
     "name": "stderr",
     "output_type": "stream",
     "text": [
      "RandomForestClassifier is running...:  45%|████▌     | 9/20 [06:02<07:26, 40.60s/it]"
     ]
    },
    {
     "name": "stdout",
     "output_type": "stream",
     "text": [
      "Fold 10 - 정확도: 0.7301, ROC-AUC: 0.7021\n"
     ]
    },
    {
     "name": "stderr",
     "output_type": "stream",
     "text": [
      "RandomForestClassifier is running...:  50%|█████     | 10/20 [06:42<06:44, 40.45s/it]"
     ]
    },
    {
     "name": "stdout",
     "output_type": "stream",
     "text": [
      "Fold 11 - 정확도: 0.7204, ROC-AUC: 0.6968\n"
     ]
    },
    {
     "name": "stderr",
     "output_type": "stream",
     "text": [
      "RandomForestClassifier is running...:  55%|█████▌    | 11/20 [07:24<06:06, 40.78s/it]"
     ]
    },
    {
     "name": "stdout",
     "output_type": "stream",
     "text": [
      "Fold 12 - 정확도: 0.7275, ROC-AUC: 0.6981\n"
     ]
    },
    {
     "name": "stderr",
     "output_type": "stream",
     "text": [
      "RandomForestClassifier is running...:  60%|██████    | 12/20 [08:03<05:21, 40.24s/it]"
     ]
    },
    {
     "name": "stdout",
     "output_type": "stream",
     "text": [
      "Fold 13 - 정확도: 0.7287, ROC-AUC: 0.7113\n"
     ]
    },
    {
     "name": "stderr",
     "output_type": "stream",
     "text": [
      "RandomForestClassifier is running...:  65%|██████▌   | 13/20 [08:42<04:40, 40.02s/it]"
     ]
    },
    {
     "name": "stdout",
     "output_type": "stream",
     "text": [
      "Fold 14 - 정확도: 0.7280, ROC-AUC: 0.7062\n"
     ]
    },
    {
     "name": "stderr",
     "output_type": "stream",
     "text": [
      "RandomForestClassifier is running...:  70%|███████   | 14/20 [09:21<03:57, 39.53s/it]"
     ]
    },
    {
     "name": "stdout",
     "output_type": "stream",
     "text": [
      "Fold 15 - 정확도: 0.7236, ROC-AUC: 0.7020\n"
     ]
    },
    {
     "name": "stderr",
     "output_type": "stream",
     "text": [
      "RandomForestClassifier is running...:  75%|███████▌  | 15/20 [10:00<03:17, 39.55s/it]"
     ]
    },
    {
     "name": "stdout",
     "output_type": "stream",
     "text": [
      "Fold 16 - 정확도: 0.7332, ROC-AUC: 0.7019\n"
     ]
    },
    {
     "name": "stderr",
     "output_type": "stream",
     "text": [
      "RandomForestClassifier is running...:  80%|████████  | 16/20 [10:39<02:36, 39.24s/it]"
     ]
    },
    {
     "name": "stdout",
     "output_type": "stream",
     "text": [
      "Fold 17 - 정확도: 0.7275, ROC-AUC: 0.6955\n"
     ]
    },
    {
     "name": "stderr",
     "output_type": "stream",
     "text": [
      "RandomForestClassifier is running...:  85%|████████▌ | 17/20 [11:18<01:57, 39.22s/it]"
     ]
    },
    {
     "name": "stdout",
     "output_type": "stream",
     "text": [
      "Fold 18 - 정확도: 0.7301, ROC-AUC: 0.7032\n"
     ]
    },
    {
     "name": "stderr",
     "output_type": "stream",
     "text": [
      "RandomForestClassifier is running...:  90%|█████████ | 18/20 [11:57<01:18, 39.20s/it]"
     ]
    },
    {
     "name": "stdout",
     "output_type": "stream",
     "text": [
      "Fold 19 - 정확도: 0.7258, ROC-AUC: 0.7074\n"
     ]
    },
    {
     "name": "stderr",
     "output_type": "stream",
     "text": [
      "RandomForestClassifier is running...:  95%|█████████▌| 19/20 [12:36<00:39, 39.07s/it]"
     ]
    },
    {
     "name": "stdout",
     "output_type": "stream",
     "text": [
      "Fold 20 - 정확도: 0.7191, ROC-AUC: 0.7050\n"
     ]
    },
    {
     "name": "stderr",
     "output_type": "stream",
     "text": [
      "RandomForestClassifier is running...: 100%|██████████| 20/20 [13:15<00:00, 39.78s/it]\n"
     ]
    },
    {
     "name": "stdout",
     "output_type": "stream",
     "text": [
      "Fold 21 - 정확도: 0.7287, ROC-AUC: 0.7024\n",
      "RandomForestClassifier - 평균 정확도: 0.7261, 평균 ROC-AUC: 0.7021\n"
     ]
    },
    {
     "name": "stderr",
     "output_type": "stream",
     "text": [
      "ExtraTreesClassifier is running...:   5%|▌         | 1/20 [00:48<15:26, 48.75s/it]"
     ]
    },
    {
     "name": "stdout",
     "output_type": "stream",
     "text": [
      "Fold  2 - 정확도: 0.7210, ROC-AUC: 0.6962\n"
     ]
    },
    {
     "name": "stderr",
     "output_type": "stream",
     "text": [
      "ExtraTreesClassifier is running...:  10%|█         | 2/20 [01:40<15:13, 50.75s/it]"
     ]
    },
    {
     "name": "stdout",
     "output_type": "stream",
     "text": [
      "Fold  3 - 정확도: 0.7213, ROC-AUC: 0.6900\n"
     ]
    },
    {
     "name": "stderr",
     "output_type": "stream",
     "text": [
      "ExtraTreesClassifier is running...:  15%|█▌        | 3/20 [02:33<14:38, 51.68s/it]"
     ]
    },
    {
     "name": "stdout",
     "output_type": "stream",
     "text": [
      "Fold  4 - 정확도: 0.7157, ROC-AUC: 0.6847\n"
     ]
    },
    {
     "name": "stderr",
     "output_type": "stream",
     "text": [
      "ExtraTreesClassifier is running...:  20%|██        | 4/20 [03:25<13:47, 51.75s/it]"
     ]
    },
    {
     "name": "stdout",
     "output_type": "stream",
     "text": [
      "Fold  5 - 정확도: 0.7121, ROC-AUC: 0.6959\n"
     ]
    },
    {
     "name": "stderr",
     "output_type": "stream",
     "text": [
      "ExtraTreesClassifier is running...:  25%|██▌       | 5/20 [04:17<12:56, 51.76s/it]"
     ]
    },
    {
     "name": "stdout",
     "output_type": "stream",
     "text": [
      "Fold  6 - 정확도: 0.7103, ROC-AUC: 0.6819\n"
     ]
    },
    {
     "name": "stderr",
     "output_type": "stream",
     "text": [
      "ExtraTreesClassifier is running...:  30%|███       | 6/20 [05:10<12:10, 52.17s/it]"
     ]
    },
    {
     "name": "stdout",
     "output_type": "stream",
     "text": [
      "Fold  7 - 정확도: 0.7057, ROC-AUC: 0.6807\n"
     ]
    },
    {
     "name": "stderr",
     "output_type": "stream",
     "text": [
      "ExtraTreesClassifier is running...:  35%|███▌      | 7/20 [06:03<11:24, 52.64s/it]"
     ]
    },
    {
     "name": "stdout",
     "output_type": "stream",
     "text": [
      "Fold  8 - 정확도: 0.7181, ROC-AUC: 0.6910\n"
     ]
    },
    {
     "name": "stderr",
     "output_type": "stream",
     "text": [
      "ExtraTreesClassifier is running...:  40%|████      | 8/20 [06:56<10:30, 52.58s/it]"
     ]
    },
    {
     "name": "stdout",
     "output_type": "stream",
     "text": [
      "Fold  9 - 정확도: 0.7150, ROC-AUC: 0.6949\n"
     ]
    },
    {
     "name": "stderr",
     "output_type": "stream",
     "text": [
      "ExtraTreesClassifier is running...:  45%|████▌     | 9/20 [07:44<09:21, 51.08s/it]"
     ]
    },
    {
     "name": "stdout",
     "output_type": "stream",
     "text": [
      "Fold 10 - 정확도: 0.7176, ROC-AUC: 0.6902\n"
     ]
    },
    {
     "name": "stderr",
     "output_type": "stream",
     "text": [
      "ExtraTreesClassifier is running...:  50%|█████     | 10/20 [08:35<08:32, 51.24s/it]"
     ]
    },
    {
     "name": "stdout",
     "output_type": "stream",
     "text": [
      "Fold 11 - 정확도: 0.7159, ROC-AUC: 0.6823\n"
     ]
    },
    {
     "name": "stderr",
     "output_type": "stream",
     "text": [
      "ExtraTreesClassifier is running...:  55%|█████▌    | 11/20 [09:27<07:43, 51.45s/it]"
     ]
    },
    {
     "name": "stdout",
     "output_type": "stream",
     "text": [
      "Fold 12 - 정확도: 0.7156, ROC-AUC: 0.6843\n"
     ]
    },
    {
     "name": "stderr",
     "output_type": "stream",
     "text": [
      "ExtraTreesClassifier is running...:  60%|██████    | 12/20 [10:19<06:53, 51.65s/it]"
     ]
    },
    {
     "name": "stdout",
     "output_type": "stream",
     "text": [
      "Fold 13 - 정확도: 0.7174, ROC-AUC: 0.6944\n"
     ]
    },
    {
     "name": "stderr",
     "output_type": "stream",
     "text": [
      "ExtraTreesClassifier is running...:  65%|██████▌   | 13/20 [11:09<05:57, 51.01s/it]"
     ]
    },
    {
     "name": "stdout",
     "output_type": "stream",
     "text": [
      "Fold 14 - 정확도: 0.7173, ROC-AUC: 0.6915\n"
     ]
    },
    {
     "name": "stderr",
     "output_type": "stream",
     "text": [
      "ExtraTreesClassifier is running...:  70%|███████   | 14/20 [11:58<05:02, 50.34s/it]"
     ]
    },
    {
     "name": "stdout",
     "output_type": "stream",
     "text": [
      "Fold 15 - 정확도: 0.7104, ROC-AUC: 0.6894\n"
     ]
    },
    {
     "name": "stderr",
     "output_type": "stream",
     "text": [
      "ExtraTreesClassifier is running...:  75%|███████▌  | 15/20 [12:47<04:10, 50.05s/it]"
     ]
    },
    {
     "name": "stdout",
     "output_type": "stream",
     "text": [
      "Fold 16 - 정확도: 0.7206, ROC-AUC: 0.6868\n"
     ]
    },
    {
     "name": "stderr",
     "output_type": "stream",
     "text": [
      "ExtraTreesClassifier is running...:  80%|████████  | 16/20 [13:38<03:21, 50.38s/it]"
     ]
    },
    {
     "name": "stdout",
     "output_type": "stream",
     "text": [
      "Fold 17 - 정확도: 0.7166, ROC-AUC: 0.6837\n"
     ]
    },
    {
     "name": "stderr",
     "output_type": "stream",
     "text": [
      "ExtraTreesClassifier is running...:  85%|████████▌ | 17/20 [14:26<02:29, 49.73s/it]"
     ]
    },
    {
     "name": "stdout",
     "output_type": "stream",
     "text": [
      "Fold 18 - 정확도: 0.7166, ROC-AUC: 0.6879\n"
     ]
    },
    {
     "name": "stderr",
     "output_type": "stream",
     "text": [
      "ExtraTreesClassifier is running...:  90%|█████████ | 18/20 [15:16<01:39, 49.59s/it]"
     ]
    },
    {
     "name": "stdout",
     "output_type": "stream",
     "text": [
      "Fold 19 - 정확도: 0.7133, ROC-AUC: 0.6955\n"
     ]
    },
    {
     "name": "stderr",
     "output_type": "stream",
     "text": [
      "ExtraTreesClassifier is running...:  95%|█████████▌| 19/20 [16:04<00:49, 49.09s/it]"
     ]
    },
    {
     "name": "stdout",
     "output_type": "stream",
     "text": [
      "Fold 20 - 정확도: 0.7140, ROC-AUC: 0.6970\n"
     ]
    },
    {
     "name": "stderr",
     "output_type": "stream",
     "text": [
      "ExtraTreesClassifier is running...: 100%|██████████| 20/20 [16:54<00:00, 50.73s/it]\n"
     ]
    },
    {
     "name": "stdout",
     "output_type": "stream",
     "text": [
      "Fold 21 - 정확도: 0.7169, ROC-AUC: 0.6897\n",
      "ExtraTreesClassifier - 평균 정확도: 0.7156, 평균 ROC-AUC: 0.6894\n"
     ]
    },
    {
     "name": "stderr",
     "output_type": "stream",
     "text": [
      "GradientBoostingClassifier is running...:   5%|▌         | 1/20 [00:44<13:57, 44.07s/it]"
     ]
    },
    {
     "name": "stdout",
     "output_type": "stream",
     "text": [
      "Fold  2 - 정확도: 0.7551, ROC-AUC: 0.7421\n"
     ]
    },
    {
     "name": "stderr",
     "output_type": "stream",
     "text": [
      "GradientBoostingClassifier is running...:  10%|█         | 2/20 [01:27<13:09, 43.85s/it]"
     ]
    },
    {
     "name": "stdout",
     "output_type": "stream",
     "text": [
      "Fold  3 - 정확도: 0.7504, ROC-AUC: 0.7374\n"
     ]
    },
    {
     "name": "stderr",
     "output_type": "stream",
     "text": [
      "GradientBoostingClassifier is running...:  15%|█▌        | 3/20 [02:11<12:22, 43.67s/it]"
     ]
    },
    {
     "name": "stdout",
     "output_type": "stream",
     "text": [
      "Fold  4 - 정확도: 0.7450, ROC-AUC: 0.7299\n"
     ]
    },
    {
     "name": "stderr",
     "output_type": "stream",
     "text": [
      "GradientBoostingClassifier is running...:  20%|██        | 4/20 [02:55<11:41, 43.87s/it]"
     ]
    },
    {
     "name": "stdout",
     "output_type": "stream",
     "text": [
      "Fold  5 - 정확도: 0.7436, ROC-AUC: 0.7394\n"
     ]
    },
    {
     "name": "stderr",
     "output_type": "stream",
     "text": [
      "GradientBoostingClassifier is running...:  25%|██▌       | 5/20 [03:39<10:57, 43.81s/it]"
     ]
    },
    {
     "name": "stdout",
     "output_type": "stream",
     "text": [
      "Fold  6 - 정확도: 0.7424, ROC-AUC: 0.7331\n"
     ]
    },
    {
     "name": "stderr",
     "output_type": "stream",
     "text": [
      "GradientBoostingClassifier is running...:  30%|███       | 6/20 [04:22<10:12, 43.78s/it]"
     ]
    },
    {
     "name": "stdout",
     "output_type": "stream",
     "text": [
      "Fold  7 - 정확도: 0.7355, ROC-AUC: 0.7342\n"
     ]
    },
    {
     "name": "stderr",
     "output_type": "stream",
     "text": [
      "GradientBoostingClassifier is running...:  35%|███▌      | 7/20 [05:06<09:27, 43.68s/it]"
     ]
    },
    {
     "name": "stdout",
     "output_type": "stream",
     "text": [
      "Fold  8 - 정확도: 0.7455, ROC-AUC: 0.7406\n"
     ]
    },
    {
     "name": "stderr",
     "output_type": "stream",
     "text": [
      "GradientBoostingClassifier is running...:  40%|████      | 8/20 [05:50<08:44, 43.70s/it]"
     ]
    },
    {
     "name": "stdout",
     "output_type": "stream",
     "text": [
      "Fold  9 - 정확도: 0.7492, ROC-AUC: 0.7414\n"
     ]
    },
    {
     "name": "stderr",
     "output_type": "stream",
     "text": [
      "GradientBoostingClassifier is running...:  45%|████▌     | 9/20 [06:33<08:00, 43.70s/it]"
     ]
    },
    {
     "name": "stdout",
     "output_type": "stream",
     "text": [
      "Fold 10 - 정확도: 0.7489, ROC-AUC: 0.7421\n"
     ]
    },
    {
     "name": "stderr",
     "output_type": "stream",
     "text": [
      "GradientBoostingClassifier is running...:  50%|█████     | 10/20 [07:17<07:16, 43.65s/it]"
     ]
    },
    {
     "name": "stdout",
     "output_type": "stream",
     "text": [
      "Fold 11 - 정확도: 0.7368, ROC-AUC: 0.7304\n"
     ]
    },
    {
     "name": "stderr",
     "output_type": "stream",
     "text": [
      "GradientBoostingClassifier is running...:  55%|█████▌    | 11/20 [08:00<06:32, 43.59s/it]"
     ]
    },
    {
     "name": "stdout",
     "output_type": "stream",
     "text": [
      "Fold 12 - 정확도: 0.7475, ROC-AUC: 0.7295\n"
     ]
    },
    {
     "name": "stderr",
     "output_type": "stream",
     "text": [
      "GradientBoostingClassifier is running...:  60%|██████    | 12/20 [08:44<05:48, 43.56s/it]"
     ]
    },
    {
     "name": "stdout",
     "output_type": "stream",
     "text": [
      "Fold 13 - 정확도: 0.7447, ROC-AUC: 0.7432\n"
     ]
    },
    {
     "name": "stderr",
     "output_type": "stream",
     "text": [
      "GradientBoostingClassifier is running...:  65%|██████▌   | 13/20 [09:27<05:05, 43.58s/it]"
     ]
    },
    {
     "name": "stdout",
     "output_type": "stream",
     "text": [
      "Fold 14 - 정확도: 0.7477, ROC-AUC: 0.7440\n"
     ]
    },
    {
     "name": "stderr",
     "output_type": "stream",
     "text": [
      "GradientBoostingClassifier is running...:  70%|███████   | 14/20 [10:11<04:21, 43.64s/it]"
     ]
    },
    {
     "name": "stdout",
     "output_type": "stream",
     "text": [
      "Fold 15 - 정확도: 0.7396, ROC-AUC: 0.7401\n"
     ]
    },
    {
     "name": "stderr",
     "output_type": "stream",
     "text": [
      "GradientBoostingClassifier is running...:  75%|███████▌  | 15/20 [10:55<03:38, 43.62s/it]"
     ]
    },
    {
     "name": "stdout",
     "output_type": "stream",
     "text": [
      "Fold 16 - 정확도: 0.7503, ROC-AUC: 0.7377\n"
     ]
    },
    {
     "name": "stderr",
     "output_type": "stream",
     "text": [
      "GradientBoostingClassifier is running...:  80%|████████  | 16/20 [11:39<02:55, 43.76s/it]"
     ]
    },
    {
     "name": "stdout",
     "output_type": "stream",
     "text": [
      "Fold 17 - 정확도: 0.7494, ROC-AUC: 0.7307\n"
     ]
    },
    {
     "name": "stderr",
     "output_type": "stream",
     "text": [
      "GradientBoostingClassifier is running...:  85%|████████▌ | 17/20 [12:22<02:10, 43.66s/it]"
     ]
    },
    {
     "name": "stdout",
     "output_type": "stream",
     "text": [
      "Fold 18 - 정확도: 0.7500, ROC-AUC: 0.7405\n"
     ]
    },
    {
     "name": "stderr",
     "output_type": "stream",
     "text": [
      "GradientBoostingClassifier is running...:  90%|█████████ | 18/20 [13:06<01:27, 43.70s/it]"
     ]
    },
    {
     "name": "stdout",
     "output_type": "stream",
     "text": [
      "Fold 19 - 정확도: 0.7468, ROC-AUC: 0.7404\n"
     ]
    },
    {
     "name": "stderr",
     "output_type": "stream",
     "text": [
      "GradientBoostingClassifier is running...:  95%|█████████▌| 19/20 [13:50<00:43, 43.71s/it]"
     ]
    },
    {
     "name": "stdout",
     "output_type": "stream",
     "text": [
      "Fold 20 - 정확도: 0.7442, ROC-AUC: 0.7397\n"
     ]
    },
    {
     "name": "stderr",
     "output_type": "stream",
     "text": [
      "GradientBoostingClassifier is running...: 100%|██████████| 20/20 [14:34<00:00, 43.70s/it]\n"
     ]
    },
    {
     "name": "stdout",
     "output_type": "stream",
     "text": [
      "Fold 21 - 정확도: 0.7470, ROC-AUC: 0.7418\n",
      "GradientBoostingClassifier - 평균 정확도: 0.7460, 평균 ROC-AUC: 0.7379\n"
     ]
    },
    {
     "name": "stderr",
     "output_type": "stream",
     "text": [
      "AdaBoostClassifier is running...:   5%|▌         | 1/20 [00:10<03:18, 10.47s/it]"
     ]
    },
    {
     "name": "stdout",
     "output_type": "stream",
     "text": [
      "Fold  2 - 정확도: 0.7515, ROC-AUC: 0.7254\n"
     ]
    },
    {
     "name": "stderr",
     "output_type": "stream",
     "text": [
      "AdaBoostClassifier is running...:  10%|█         | 2/20 [00:21<03:10, 10.59s/it]"
     ]
    },
    {
     "name": "stdout",
     "output_type": "stream",
     "text": [
      "Fold  3 - 정확도: 0.7465, ROC-AUC: 0.7230\n"
     ]
    },
    {
     "name": "stderr",
     "output_type": "stream",
     "text": [
      "AdaBoostClassifier is running...:  15%|█▌        | 3/20 [00:31<02:58, 10.50s/it]"
     ]
    },
    {
     "name": "stdout",
     "output_type": "stream",
     "text": [
      "Fold  4 - 정확도: 0.7456, ROC-AUC: 0.7112\n"
     ]
    },
    {
     "name": "stderr",
     "output_type": "stream",
     "text": [
      "AdaBoostClassifier is running...:  20%|██        | 4/20 [00:41<02:46, 10.43s/it]"
     ]
    },
    {
     "name": "stdout",
     "output_type": "stream",
     "text": [
      "Fold  5 - 정확도: 0.7386, ROC-AUC: 0.7214\n"
     ]
    },
    {
     "name": "stderr",
     "output_type": "stream",
     "text": [
      "AdaBoostClassifier is running...:  25%|██▌       | 5/20 [00:52<02:35, 10.39s/it]"
     ]
    },
    {
     "name": "stdout",
     "output_type": "stream",
     "text": [
      "Fold  6 - 정확도: 0.7397, ROC-AUC: 0.7203\n"
     ]
    },
    {
     "name": "stderr",
     "output_type": "stream",
     "text": [
      "AdaBoostClassifier is running...:  30%|███       | 6/20 [01:02<02:25, 10.36s/it]"
     ]
    },
    {
     "name": "stdout",
     "output_type": "stream",
     "text": [
      "Fold  7 - 정확도: 0.7349, ROC-AUC: 0.7193\n"
     ]
    },
    {
     "name": "stderr",
     "output_type": "stream",
     "text": [
      "AdaBoostClassifier is running...:  35%|███▌      | 7/20 [01:12<02:14, 10.33s/it]"
     ]
    },
    {
     "name": "stdout",
     "output_type": "stream",
     "text": [
      "Fold  8 - 정확도: 0.7428, ROC-AUC: 0.7238\n"
     ]
    },
    {
     "name": "stderr",
     "output_type": "stream",
     "text": [
      "AdaBoostClassifier is running...:  40%|████      | 8/20 [01:23<02:04, 10.35s/it]"
     ]
    },
    {
     "name": "stdout",
     "output_type": "stream",
     "text": [
      "Fold  9 - 정확도: 0.7487, ROC-AUC: 0.7252\n"
     ]
    },
    {
     "name": "stderr",
     "output_type": "stream",
     "text": [
      "AdaBoostClassifier is running...:  45%|████▌     | 9/20 [01:33<01:53, 10.34s/it]"
     ]
    },
    {
     "name": "stdout",
     "output_type": "stream",
     "text": [
      "Fold 10 - 정확도: 0.7453, ROC-AUC: 0.7251\n"
     ]
    },
    {
     "name": "stderr",
     "output_type": "stream",
     "text": [
      "AdaBoostClassifier is running...:  50%|█████     | 10/20 [01:43<01:43, 10.38s/it]"
     ]
    },
    {
     "name": "stdout",
     "output_type": "stream",
     "text": [
      "Fold 11 - 정확도: 0.7337, ROC-AUC: 0.7157\n"
     ]
    },
    {
     "name": "stderr",
     "output_type": "stream",
     "text": [
      "AdaBoostClassifier is running...:  55%|█████▌    | 11/20 [01:54<01:33, 10.36s/it]"
     ]
    },
    {
     "name": "stdout",
     "output_type": "stream",
     "text": [
      "Fold 12 - 정확도: 0.7452, ROC-AUC: 0.7139\n"
     ]
    },
    {
     "name": "stderr",
     "output_type": "stream",
     "text": [
      "AdaBoostClassifier is running...:  60%|██████    | 12/20 [02:04<01:23, 10.38s/it]"
     ]
    },
    {
     "name": "stdout",
     "output_type": "stream",
     "text": [
      "Fold 13 - 정확도: 0.7437, ROC-AUC: 0.7270\n"
     ]
    },
    {
     "name": "stderr",
     "output_type": "stream",
     "text": [
      "AdaBoostClassifier is running...:  65%|██████▌   | 13/20 [02:14<01:12, 10.36s/it]"
     ]
    },
    {
     "name": "stdout",
     "output_type": "stream",
     "text": [
      "Fold 14 - 정확도: 0.7435, ROC-AUC: 0.7312\n"
     ]
    },
    {
     "name": "stderr",
     "output_type": "stream",
     "text": [
      "AdaBoostClassifier is running...:  70%|███████   | 14/20 [02:25<01:02, 10.35s/it]"
     ]
    },
    {
     "name": "stdout",
     "output_type": "stream",
     "text": [
      "Fold 15 - 정확도: 0.7371, ROC-AUC: 0.7251\n"
     ]
    },
    {
     "name": "stderr",
     "output_type": "stream",
     "text": [
      "AdaBoostClassifier is running...:  75%|███████▌  | 15/20 [02:35<00:52, 10.40s/it]"
     ]
    },
    {
     "name": "stdout",
     "output_type": "stream",
     "text": [
      "Fold 16 - 정확도: 0.7470, ROC-AUC: 0.7227\n"
     ]
    },
    {
     "name": "stderr",
     "output_type": "stream",
     "text": [
      "AdaBoostClassifier is running...:  80%|████████  | 16/20 [02:46<00:41, 10.38s/it]"
     ]
    },
    {
     "name": "stdout",
     "output_type": "stream",
     "text": [
      "Fold 17 - 정확도: 0.7450, ROC-AUC: 0.7124\n"
     ]
    },
    {
     "name": "stderr",
     "output_type": "stream",
     "text": [
      "AdaBoostClassifier is running...:  85%|████████▌ | 17/20 [02:56<00:31, 10.44s/it]"
     ]
    },
    {
     "name": "stdout",
     "output_type": "stream",
     "text": [
      "Fold 18 - 정확도: 0.7464, ROC-AUC: 0.7237\n"
     ]
    },
    {
     "name": "stderr",
     "output_type": "stream",
     "text": [
      "AdaBoostClassifier is running...:  90%|█████████ | 18/20 [03:07<00:20, 10.44s/it]"
     ]
    },
    {
     "name": "stdout",
     "output_type": "stream",
     "text": [
      "Fold 19 - 정확도: 0.7432, ROC-AUC: 0.7247\n"
     ]
    },
    {
     "name": "stderr",
     "output_type": "stream",
     "text": [
      "AdaBoostClassifier is running...:  95%|█████████▌| 19/20 [03:17<00:10, 10.44s/it]"
     ]
    },
    {
     "name": "stdout",
     "output_type": "stream",
     "text": [
      "Fold 20 - 정확도: 0.7395, ROC-AUC: 0.7249\n"
     ]
    },
    {
     "name": "stderr",
     "output_type": "stream",
     "text": [
      "AdaBoostClassifier is running...: 100%|██████████| 20/20 [03:28<00:00, 10.40s/it]\n"
     ]
    },
    {
     "name": "stdout",
     "output_type": "stream",
     "text": [
      "Fold 21 - 정확도: 0.7443, ROC-AUC: 0.7244\n",
      "AdaBoostClassifier - 평균 정확도: 0.7431, 평균 ROC-AUC: 0.7220\n"
     ]
    },
    {
     "name": "stderr",
     "output_type": "stream",
     "text": [
      "DecisionTreeClassifier is running...:   5%|▌         | 1/20 [00:03<01:00,  3.18s/it]"
     ]
    },
    {
     "name": "stdout",
     "output_type": "stream",
     "text": [
      "Fold  2 - 정확도: 0.6660, ROC-AUC: 0.5727\n"
     ]
    },
    {
     "name": "stderr",
     "output_type": "stream",
     "text": [
      "DecisionTreeClassifier is running...:  10%|█         | 2/20 [00:06<00:57,  3.19s/it]"
     ]
    },
    {
     "name": "stdout",
     "output_type": "stream",
     "text": [
      "Fold  3 - 정확도: 0.6673, ROC-AUC: 0.5734\n"
     ]
    },
    {
     "name": "stderr",
     "output_type": "stream",
     "text": [
      "DecisionTreeClassifier is running...:  15%|█▌        | 3/20 [00:09<00:53,  3.14s/it]"
     ]
    },
    {
     "name": "stdout",
     "output_type": "stream",
     "text": [
      "Fold  4 - 정확도: 0.6627, ROC-AUC: 0.5681\n"
     ]
    },
    {
     "name": "stderr",
     "output_type": "stream",
     "text": [
      "DecisionTreeClassifier is running...:  20%|██        | 4/20 [00:12<00:50,  3.15s/it]"
     ]
    },
    {
     "name": "stdout",
     "output_type": "stream",
     "text": [
      "Fold  5 - 정확도: 0.6595, ROC-AUC: 0.5691\n"
     ]
    },
    {
     "name": "stderr",
     "output_type": "stream",
     "text": [
      "DecisionTreeClassifier is running...:  25%|██▌       | 5/20 [00:15<00:47,  3.15s/it]"
     ]
    },
    {
     "name": "stdout",
     "output_type": "stream",
     "text": [
      "Fold  6 - 정확도: 0.6524, ROC-AUC: 0.5592\n"
     ]
    },
    {
     "name": "stderr",
     "output_type": "stream",
     "text": [
      "DecisionTreeClassifier is running...:  30%|███       | 6/20 [00:18<00:43,  3.13s/it]"
     ]
    },
    {
     "name": "stdout",
     "output_type": "stream",
     "text": [
      "Fold  7 - 정확도: 0.6534, ROC-AUC: 0.5640\n"
     ]
    },
    {
     "name": "stderr",
     "output_type": "stream",
     "text": [
      "DecisionTreeClassifier is running...:  35%|███▌      | 7/20 [00:21<00:40,  3.11s/it]"
     ]
    },
    {
     "name": "stdout",
     "output_type": "stream",
     "text": [
      "Fold  8 - 정확도: 0.6657, ROC-AUC: 0.5727\n"
     ]
    },
    {
     "name": "stderr",
     "output_type": "stream",
     "text": [
      "DecisionTreeClassifier is running...:  40%|████      | 8/20 [00:25<00:37,  3.15s/it]"
     ]
    },
    {
     "name": "stdout",
     "output_type": "stream",
     "text": [
      "Fold  9 - 정확도: 0.6585, ROC-AUC: 0.5659\n"
     ]
    },
    {
     "name": "stderr",
     "output_type": "stream",
     "text": [
      "DecisionTreeClassifier is running...:  45%|████▌     | 9/20 [00:28<00:34,  3.16s/it]"
     ]
    },
    {
     "name": "stdout",
     "output_type": "stream",
     "text": [
      "Fold 10 - 정확도: 0.6622, ROC-AUC: 0.5673\n"
     ]
    },
    {
     "name": "stderr",
     "output_type": "stream",
     "text": [
      "DecisionTreeClassifier is running...:  50%|█████     | 10/20 [00:31<00:31,  3.16s/it]"
     ]
    },
    {
     "name": "stdout",
     "output_type": "stream",
     "text": [
      "Fold 11 - 정확도: 0.6613, ROC-AUC: 0.5722\n"
     ]
    },
    {
     "name": "stderr",
     "output_type": "stream",
     "text": [
      "DecisionTreeClassifier is running...:  55%|█████▌    | 11/20 [00:34<00:28,  3.13s/it]"
     ]
    },
    {
     "name": "stdout",
     "output_type": "stream",
     "text": [
      "Fold 12 - 정확도: 0.6513, ROC-AUC: 0.5599\n"
     ]
    },
    {
     "name": "stderr",
     "output_type": "stream",
     "text": [
      "DecisionTreeClassifier is running...:  60%|██████    | 12/20 [00:37<00:25,  3.14s/it]"
     ]
    },
    {
     "name": "stdout",
     "output_type": "stream",
     "text": [
      "Fold 13 - 정확도: 0.6633, ROC-AUC: 0.5735\n"
     ]
    },
    {
     "name": "stderr",
     "output_type": "stream",
     "text": [
      "DecisionTreeClassifier is running...:  65%|██████▌   | 13/20 [00:40<00:22,  3.15s/it]"
     ]
    },
    {
     "name": "stdout",
     "output_type": "stream",
     "text": [
      "Fold 14 - 정확도: 0.6711, ROC-AUC: 0.5769\n"
     ]
    },
    {
     "name": "stderr",
     "output_type": "stream",
     "text": [
      "DecisionTreeClassifier is running...:  70%|███████   | 14/20 [00:44<00:19,  3.21s/it]"
     ]
    },
    {
     "name": "stdout",
     "output_type": "stream",
     "text": [
      "Fold 15 - 정확도: 0.6624, ROC-AUC: 0.5726\n"
     ]
    },
    {
     "name": "stderr",
     "output_type": "stream",
     "text": [
      "DecisionTreeClassifier is running...:  75%|███████▌  | 15/20 [00:47<00:16,  3.25s/it]"
     ]
    },
    {
     "name": "stdout",
     "output_type": "stream",
     "text": [
      "Fold 16 - 정확도: 0.6654, ROC-AUC: 0.5724\n"
     ]
    },
    {
     "name": "stderr",
     "output_type": "stream",
     "text": [
      "DecisionTreeClassifier is running...:  80%|████████  | 16/20 [00:50<00:12,  3.19s/it]"
     ]
    },
    {
     "name": "stdout",
     "output_type": "stream",
     "text": [
      "Fold 17 - 정확도: 0.6580, ROC-AUC: 0.5670\n"
     ]
    },
    {
     "name": "stderr",
     "output_type": "stream",
     "text": [
      "DecisionTreeClassifier is running...:  85%|████████▌ | 17/20 [00:53<00:09,  3.16s/it]"
     ]
    },
    {
     "name": "stdout",
     "output_type": "stream",
     "text": [
      "Fold 18 - 정확도: 0.6589, ROC-AUC: 0.5650\n"
     ]
    },
    {
     "name": "stderr",
     "output_type": "stream",
     "text": [
      "DecisionTreeClassifier is running...:  90%|█████████ | 18/20 [00:56<00:06,  3.13s/it]"
     ]
    },
    {
     "name": "stdout",
     "output_type": "stream",
     "text": [
      "Fold 19 - 정확도: 0.6569, ROC-AUC: 0.5690\n"
     ]
    },
    {
     "name": "stderr",
     "output_type": "stream",
     "text": [
      "DecisionTreeClassifier is running...:  95%|█████████▌| 19/20 [01:00<00:03,  3.15s/it]"
     ]
    },
    {
     "name": "stdout",
     "output_type": "stream",
     "text": [
      "Fold 20 - 정확도: 0.6580, ROC-AUC: 0.5642\n"
     ]
    },
    {
     "name": "stderr",
     "output_type": "stream",
     "text": [
      "DecisionTreeClassifier is running...: 100%|██████████| 20/20 [01:03<00:00,  3.16s/it]\n"
     ]
    },
    {
     "name": "stdout",
     "output_type": "stream",
     "text": [
      "Fold 21 - 정확도: 0.6573, ROC-AUC: 0.5672\n",
      "DecisionTreeClassifier - 평균 정확도: 0.6606, 평균 ROC-AUC: 0.5686\n"
     ]
    },
    {
     "name": "stderr",
     "output_type": "stream",
     "text": [
      "KNeighborsClassifier is running...:   5%|▌         | 1/20 [00:02<00:51,  2.72s/it]"
     ]
    },
    {
     "name": "stdout",
     "output_type": "stream",
     "text": [
      "Fold  2 - 정확도: 0.7048, ROC-AUC: 0.6467\n"
     ]
    },
    {
     "name": "stderr",
     "output_type": "stream",
     "text": [
      "KNeighborsClassifier is running...:  10%|█         | 2/20 [00:05<00:47,  2.62s/it]"
     ]
    },
    {
     "name": "stdout",
     "output_type": "stream",
     "text": [
      "Fold  3 - 정확도: 0.7056, ROC-AUC: 0.6521\n"
     ]
    },
    {
     "name": "stderr",
     "output_type": "stream",
     "text": [
      "KNeighborsClassifier is running...:  15%|█▌        | 3/20 [00:07<00:44,  2.61s/it]"
     ]
    },
    {
     "name": "stdout",
     "output_type": "stream",
     "text": [
      "Fold  4 - 정확도: 0.7049, ROC-AUC: 0.6492\n"
     ]
    },
    {
     "name": "stderr",
     "output_type": "stream",
     "text": [
      "KNeighborsClassifier is running...:  20%|██        | 4/20 [00:10<00:40,  2.56s/it]"
     ]
    },
    {
     "name": "stdout",
     "output_type": "stream",
     "text": [
      "Fold  5 - 정확도: 0.7028, ROC-AUC: 0.6528\n"
     ]
    },
    {
     "name": "stderr",
     "output_type": "stream",
     "text": [
      "KNeighborsClassifier is running...:  25%|██▌       | 5/20 [00:12<00:38,  2.55s/it]"
     ]
    },
    {
     "name": "stdout",
     "output_type": "stream",
     "text": [
      "Fold  6 - 정확도: 0.7060, ROC-AUC: 0.6422\n"
     ]
    },
    {
     "name": "stderr",
     "output_type": "stream",
     "text": [
      "KNeighborsClassifier is running...:  30%|███       | 6/20 [00:15<00:35,  2.57s/it]"
     ]
    },
    {
     "name": "stdout",
     "output_type": "stream",
     "text": [
      "Fold  7 - 정확도: 0.6975, ROC-AUC: 0.6388\n"
     ]
    },
    {
     "name": "stderr",
     "output_type": "stream",
     "text": [
      "KNeighborsClassifier is running...:  35%|███▌      | 7/20 [00:18<00:33,  2.56s/it]"
     ]
    },
    {
     "name": "stdout",
     "output_type": "stream",
     "text": [
      "Fold  8 - 정확도: 0.7084, ROC-AUC: 0.6569\n"
     ]
    },
    {
     "name": "stderr",
     "output_type": "stream",
     "text": [
      "KNeighborsClassifier is running...:  40%|████      | 8/20 [00:20<00:30,  2.54s/it]"
     ]
    },
    {
     "name": "stdout",
     "output_type": "stream",
     "text": [
      "Fold  9 - 정확도: 0.7094, ROC-AUC: 0.6492\n"
     ]
    },
    {
     "name": "stderr",
     "output_type": "stream",
     "text": [
      "KNeighborsClassifier is running...:  45%|████▌     | 9/20 [00:23<00:28,  2.57s/it]"
     ]
    },
    {
     "name": "stdout",
     "output_type": "stream",
     "text": [
      "Fold 10 - 정확도: 0.7073, ROC-AUC: 0.6495\n"
     ]
    },
    {
     "name": "stderr",
     "output_type": "stream",
     "text": [
      "KNeighborsClassifier is running...:  50%|█████     | 10/20 [00:25<00:25,  2.55s/it]"
     ]
    },
    {
     "name": "stdout",
     "output_type": "stream",
     "text": [
      "Fold 11 - 정확도: 0.7017, ROC-AUC: 0.6402\n"
     ]
    },
    {
     "name": "stderr",
     "output_type": "stream",
     "text": [
      "KNeighborsClassifier is running...:  55%|█████▌    | 11/20 [00:28<00:22,  2.53s/it]"
     ]
    },
    {
     "name": "stdout",
     "output_type": "stream",
     "text": [
      "Fold 12 - 정확도: 0.7084, ROC-AUC: 0.6539\n"
     ]
    },
    {
     "name": "stderr",
     "output_type": "stream",
     "text": [
      "KNeighborsClassifier is running...:  60%|██████    | 12/20 [00:30<00:20,  2.53s/it]"
     ]
    },
    {
     "name": "stdout",
     "output_type": "stream",
     "text": [
      "Fold 13 - 정확도: 0.7080, ROC-AUC: 0.6546\n"
     ]
    },
    {
     "name": "stderr",
     "output_type": "stream",
     "text": [
      "KNeighborsClassifier is running...:  65%|██████▌   | 13/20 [00:33<00:17,  2.51s/it]"
     ]
    },
    {
     "name": "stdout",
     "output_type": "stream",
     "text": [
      "Fold 14 - 정확도: 0.7114, ROC-AUC: 0.6505\n"
     ]
    },
    {
     "name": "stderr",
     "output_type": "stream",
     "text": [
      "KNeighborsClassifier is running...:  70%|███████   | 14/20 [00:35<00:15,  2.50s/it]"
     ]
    },
    {
     "name": "stdout",
     "output_type": "stream",
     "text": [
      "Fold 15 - 정확도: 0.6973, ROC-AUC: 0.6507\n"
     ]
    },
    {
     "name": "stderr",
     "output_type": "stream",
     "text": [
      "KNeighborsClassifier is running...:  75%|███████▌  | 15/20 [00:38<00:12,  2.52s/it]"
     ]
    },
    {
     "name": "stdout",
     "output_type": "stream",
     "text": [
      "Fold 16 - 정확도: 0.7069, ROC-AUC: 0.6483\n"
     ]
    },
    {
     "name": "stderr",
     "output_type": "stream",
     "text": [
      "KNeighborsClassifier is running...:  80%|████████  | 16/20 [00:40<00:10,  2.50s/it]"
     ]
    },
    {
     "name": "stdout",
     "output_type": "stream",
     "text": [
      "Fold 17 - 정확도: 0.7030, ROC-AUC: 0.6439\n"
     ]
    },
    {
     "name": "stderr",
     "output_type": "stream",
     "text": [
      "KNeighborsClassifier is running...:  85%|████████▌ | 17/20 [00:43<00:07,  2.48s/it]"
     ]
    },
    {
     "name": "stdout",
     "output_type": "stream",
     "text": [
      "Fold 18 - 정확도: 0.7078, ROC-AUC: 0.6507\n"
     ]
    },
    {
     "name": "stderr",
     "output_type": "stream",
     "text": [
      "KNeighborsClassifier is running...:  90%|█████████ | 18/20 [00:45<00:04,  2.49s/it]"
     ]
    },
    {
     "name": "stdout",
     "output_type": "stream",
     "text": [
      "Fold 19 - 정확도: 0.6981, ROC-AUC: 0.6464\n"
     ]
    },
    {
     "name": "stderr",
     "output_type": "stream",
     "text": [
      "KNeighborsClassifier is running...:  95%|█████████▌| 19/20 [00:48<00:02,  2.51s/it]"
     ]
    },
    {
     "name": "stdout",
     "output_type": "stream",
     "text": [
      "Fold 20 - 정확도: 0.6975, ROC-AUC: 0.6430\n"
     ]
    },
    {
     "name": "stderr",
     "output_type": "stream",
     "text": [
      "KNeighborsClassifier is running...: 100%|██████████| 20/20 [00:50<00:00,  2.53s/it]\n"
     ]
    },
    {
     "name": "stdout",
     "output_type": "stream",
     "text": [
      "Fold 21 - 정확도: 0.7035, ROC-AUC: 0.6435\n",
      "KNeighborsClassifier - 평균 정확도: 0.7045, 평균 ROC-AUC: 0.6482\n"
     ]
    },
    {
     "name": "stderr",
     "output_type": "stream",
     "text": [
      "LogisticRegression is running...:   0%|          | 0/20 [00:00<?, ?it/s]/root/miniconda3/envs/aimers/lib/python3.12/site-packages/sklearn/linear_model/_logistic.py:465: ConvergenceWarning: lbfgs failed to converge (status=1):\n",
      "STOP: TOTAL NO. OF ITERATIONS REACHED LIMIT.\n",
      "\n",
      "Increase the number of iterations (max_iter) or scale the data as shown in:\n",
      "    https://scikit-learn.org/stable/modules/preprocessing.html\n",
      "Please also refer to the documentation for alternative solver options:\n",
      "    https://scikit-learn.org/stable/modules/linear_model.html#logistic-regression\n",
      "  n_iter_i = _check_optimize_result(\n",
      "LogisticRegression is running...:   5%|▌         | 1/20 [00:09<02:52,  9.09s/it]"
     ]
    },
    {
     "name": "stdout",
     "output_type": "stream",
     "text": [
      "Fold  2 - 정확도: 0.7503, ROC-AUC: 0.7250\n"
     ]
    },
    {
     "name": "stderr",
     "output_type": "stream",
     "text": [
      "/root/miniconda3/envs/aimers/lib/python3.12/site-packages/sklearn/linear_model/_logistic.py:465: ConvergenceWarning: lbfgs failed to converge (status=1):\n",
      "STOP: TOTAL NO. OF ITERATIONS REACHED LIMIT.\n",
      "\n",
      "Increase the number of iterations (max_iter) or scale the data as shown in:\n",
      "    https://scikit-learn.org/stable/modules/preprocessing.html\n",
      "Please also refer to the documentation for alternative solver options:\n",
      "    https://scikit-learn.org/stable/modules/linear_model.html#logistic-regression\n",
      "  n_iter_i = _check_optimize_result(\n",
      "LogisticRegression is running...:  10%|█         | 2/20 [00:16<02:28,  8.22s/it]"
     ]
    },
    {
     "name": "stdout",
     "output_type": "stream",
     "text": [
      "Fold  3 - 정확도: 0.7481, ROC-AUC: 0.7219\n"
     ]
    },
    {
     "name": "stderr",
     "output_type": "stream",
     "text": [
      "/root/miniconda3/envs/aimers/lib/python3.12/site-packages/sklearn/linear_model/_logistic.py:465: ConvergenceWarning: lbfgs failed to converge (status=1):\n",
      "STOP: TOTAL NO. OF ITERATIONS REACHED LIMIT.\n",
      "\n",
      "Increase the number of iterations (max_iter) or scale the data as shown in:\n",
      "    https://scikit-learn.org/stable/modules/preprocessing.html\n",
      "Please also refer to the documentation for alternative solver options:\n",
      "    https://scikit-learn.org/stable/modules/linear_model.html#logistic-regression\n",
      "  n_iter_i = _check_optimize_result(\n",
      "LogisticRegression is running...:  15%|█▌        | 3/20 [00:25<02:21,  8.31s/it]"
     ]
    },
    {
     "name": "stdout",
     "output_type": "stream",
     "text": [
      "Fold  4 - 정확도: 0.7408, ROC-AUC: 0.7103\n"
     ]
    },
    {
     "name": "stderr",
     "output_type": "stream",
     "text": [
      "/root/miniconda3/envs/aimers/lib/python3.12/site-packages/sklearn/linear_model/_logistic.py:465: ConvergenceWarning: lbfgs failed to converge (status=1):\n",
      "STOP: TOTAL NO. OF ITERATIONS REACHED LIMIT.\n",
      "\n",
      "Increase the number of iterations (max_iter) or scale the data as shown in:\n",
      "    https://scikit-learn.org/stable/modules/preprocessing.html\n",
      "Please also refer to the documentation for alternative solver options:\n",
      "    https://scikit-learn.org/stable/modules/linear_model.html#logistic-regression\n",
      "  n_iter_i = _check_optimize_result(\n",
      "LogisticRegression is running...:  20%|██        | 4/20 [00:33<02:13,  8.34s/it]"
     ]
    },
    {
     "name": "stdout",
     "output_type": "stream",
     "text": [
      "Fold  5 - 정확도: 0.7378, ROC-AUC: 0.7212\n"
     ]
    },
    {
     "name": "stderr",
     "output_type": "stream",
     "text": [
      "/root/miniconda3/envs/aimers/lib/python3.12/site-packages/sklearn/linear_model/_logistic.py:465: ConvergenceWarning: lbfgs failed to converge (status=1):\n",
      "STOP: TOTAL NO. OF ITERATIONS REACHED LIMIT.\n",
      "\n",
      "Increase the number of iterations (max_iter) or scale the data as shown in:\n",
      "    https://scikit-learn.org/stable/modules/preprocessing.html\n",
      "Please also refer to the documentation for alternative solver options:\n",
      "    https://scikit-learn.org/stable/modules/linear_model.html#logistic-regression\n",
      "  n_iter_i = _check_optimize_result(\n",
      "LogisticRegression is running...:  25%|██▌       | 5/20 [00:41<02:03,  8.26s/it]"
     ]
    },
    {
     "name": "stdout",
     "output_type": "stream",
     "text": [
      "Fold  6 - 정확도: 0.7365, ROC-AUC: 0.7150\n"
     ]
    },
    {
     "name": "stderr",
     "output_type": "stream",
     "text": [
      "/root/miniconda3/envs/aimers/lib/python3.12/site-packages/sklearn/linear_model/_logistic.py:465: ConvergenceWarning: lbfgs failed to converge (status=1):\n",
      "STOP: TOTAL NO. OF ITERATIONS REACHED LIMIT.\n",
      "\n",
      "Increase the number of iterations (max_iter) or scale the data as shown in:\n",
      "    https://scikit-learn.org/stable/modules/preprocessing.html\n",
      "Please also refer to the documentation for alternative solver options:\n",
      "    https://scikit-learn.org/stable/modules/linear_model.html#logistic-regression\n",
      "  n_iter_i = _check_optimize_result(\n",
      "LogisticRegression is running...:  30%|███       | 6/20 [00:51<02:01,  8.71s/it]"
     ]
    },
    {
     "name": "stdout",
     "output_type": "stream",
     "text": [
      "Fold  7 - 정확도: 0.7317, ROC-AUC: 0.7126\n"
     ]
    },
    {
     "name": "stderr",
     "output_type": "stream",
     "text": [
      "/root/miniconda3/envs/aimers/lib/python3.12/site-packages/sklearn/linear_model/_logistic.py:465: ConvergenceWarning: lbfgs failed to converge (status=1):\n",
      "STOP: TOTAL NO. OF ITERATIONS REACHED LIMIT.\n",
      "\n",
      "Increase the number of iterations (max_iter) or scale the data as shown in:\n",
      "    https://scikit-learn.org/stable/modules/preprocessing.html\n",
      "Please also refer to the documentation for alternative solver options:\n",
      "    https://scikit-learn.org/stable/modules/linear_model.html#logistic-regression\n",
      "  n_iter_i = _check_optimize_result(\n",
      "LogisticRegression is running...:  35%|███▌      | 7/20 [00:59<01:53,  8.73s/it]"
     ]
    },
    {
     "name": "stdout",
     "output_type": "stream",
     "text": [
      "Fold  8 - 정확도: 0.7380, ROC-AUC: 0.7227\n"
     ]
    },
    {
     "name": "stderr",
     "output_type": "stream",
     "text": [
      "/root/miniconda3/envs/aimers/lib/python3.12/site-packages/sklearn/linear_model/_logistic.py:465: ConvergenceWarning: lbfgs failed to converge (status=1):\n",
      "STOP: TOTAL NO. OF ITERATIONS REACHED LIMIT.\n",
      "\n",
      "Increase the number of iterations (max_iter) or scale the data as shown in:\n",
      "    https://scikit-learn.org/stable/modules/preprocessing.html\n",
      "Please also refer to the documentation for alternative solver options:\n",
      "    https://scikit-learn.org/stable/modules/linear_model.html#logistic-regression\n",
      "  n_iter_i = _check_optimize_result(\n",
      "LogisticRegression is running...:  40%|████      | 8/20 [01:07<01:39,  8.28s/it]"
     ]
    },
    {
     "name": "stdout",
     "output_type": "stream",
     "text": [
      "Fold  9 - 정확도: 0.7437, ROC-AUC: 0.7207\n"
     ]
    },
    {
     "name": "stderr",
     "output_type": "stream",
     "text": [
      "/root/miniconda3/envs/aimers/lib/python3.12/site-packages/sklearn/linear_model/_logistic.py:465: ConvergenceWarning: lbfgs failed to converge (status=1):\n",
      "STOP: TOTAL NO. OF ITERATIONS REACHED LIMIT.\n",
      "\n",
      "Increase the number of iterations (max_iter) or scale the data as shown in:\n",
      "    https://scikit-learn.org/stable/modules/preprocessing.html\n",
      "Please also refer to the documentation for alternative solver options:\n",
      "    https://scikit-learn.org/stable/modules/linear_model.html#logistic-regression\n",
      "  n_iter_i = _check_optimize_result(\n",
      "LogisticRegression is running...:  45%|████▌     | 9/20 [01:14<01:27,  7.95s/it]"
     ]
    },
    {
     "name": "stdout",
     "output_type": "stream",
     "text": [
      "Fold 10 - 정확도: 0.7435, ROC-AUC: 0.7226\n"
     ]
    },
    {
     "name": "stderr",
     "output_type": "stream",
     "text": [
      "/root/miniconda3/envs/aimers/lib/python3.12/site-packages/sklearn/linear_model/_logistic.py:465: ConvergenceWarning: lbfgs failed to converge (status=1):\n",
      "STOP: TOTAL NO. OF ITERATIONS REACHED LIMIT.\n",
      "\n",
      "Increase the number of iterations (max_iter) or scale the data as shown in:\n",
      "    https://scikit-learn.org/stable/modules/preprocessing.html\n",
      "Please also refer to the documentation for alternative solver options:\n",
      "    https://scikit-learn.org/stable/modules/linear_model.html#logistic-regression\n",
      "  n_iter_i = _check_optimize_result(\n",
      "LogisticRegression is running...:  50%|█████     | 10/20 [01:21<01:16,  7.65s/it]"
     ]
    },
    {
     "name": "stdout",
     "output_type": "stream",
     "text": [
      "Fold 11 - 정확도: 0.7307, ROC-AUC: 0.7074\n"
     ]
    },
    {
     "name": "stderr",
     "output_type": "stream",
     "text": [
      "/root/miniconda3/envs/aimers/lib/python3.12/site-packages/sklearn/linear_model/_logistic.py:465: ConvergenceWarning: lbfgs failed to converge (status=1):\n",
      "STOP: TOTAL NO. OF ITERATIONS REACHED LIMIT.\n",
      "\n",
      "Increase the number of iterations (max_iter) or scale the data as shown in:\n",
      "    https://scikit-learn.org/stable/modules/preprocessing.html\n",
      "Please also refer to the documentation for alternative solver options:\n",
      "    https://scikit-learn.org/stable/modules/linear_model.html#logistic-regression\n",
      "  n_iter_i = _check_optimize_result(\n",
      "LogisticRegression is running...:  55%|█████▌    | 11/20 [01:27<01:04,  7.11s/it]"
     ]
    },
    {
     "name": "stdout",
     "output_type": "stream",
     "text": [
      "Fold 12 - 정확도: 0.7409, ROC-AUC: 0.7106\n"
     ]
    },
    {
     "name": "stderr",
     "output_type": "stream",
     "text": [
      "/root/miniconda3/envs/aimers/lib/python3.12/site-packages/sklearn/linear_model/_logistic.py:465: ConvergenceWarning: lbfgs failed to converge (status=1):\n",
      "STOP: TOTAL NO. OF ITERATIONS REACHED LIMIT.\n",
      "\n",
      "Increase the number of iterations (max_iter) or scale the data as shown in:\n",
      "    https://scikit-learn.org/stable/modules/preprocessing.html\n",
      "Please also refer to the documentation for alternative solver options:\n",
      "    https://scikit-learn.org/stable/modules/linear_model.html#logistic-regression\n",
      "  n_iter_i = _check_optimize_result(\n",
      "LogisticRegression is running...:  60%|██████    | 12/20 [01:35<01:00,  7.56s/it]"
     ]
    },
    {
     "name": "stdout",
     "output_type": "stream",
     "text": [
      "Fold 13 - 정확도: 0.7368, ROC-AUC: 0.7228\n"
     ]
    },
    {
     "name": "stderr",
     "output_type": "stream",
     "text": [
      "/root/miniconda3/envs/aimers/lib/python3.12/site-packages/sklearn/linear_model/_logistic.py:465: ConvergenceWarning: lbfgs failed to converge (status=1):\n",
      "STOP: TOTAL NO. OF ITERATIONS REACHED LIMIT.\n",
      "\n",
      "Increase the number of iterations (max_iter) or scale the data as shown in:\n",
      "    https://scikit-learn.org/stable/modules/preprocessing.html\n",
      "Please also refer to the documentation for alternative solver options:\n",
      "    https://scikit-learn.org/stable/modules/linear_model.html#logistic-regression\n",
      "  n_iter_i = _check_optimize_result(\n",
      "LogisticRegression is running...:  65%|██████▌   | 13/20 [01:42<00:51,  7.34s/it]"
     ]
    },
    {
     "name": "stdout",
     "output_type": "stream",
     "text": [
      "Fold 14 - 정확도: 0.7452, ROC-AUC: 0.7259\n"
     ]
    },
    {
     "name": "stderr",
     "output_type": "stream",
     "text": [
      "/root/miniconda3/envs/aimers/lib/python3.12/site-packages/sklearn/linear_model/_logistic.py:465: ConvergenceWarning: lbfgs failed to converge (status=1):\n",
      "STOP: TOTAL NO. OF ITERATIONS REACHED LIMIT.\n",
      "\n",
      "Increase the number of iterations (max_iter) or scale the data as shown in:\n",
      "    https://scikit-learn.org/stable/modules/preprocessing.html\n",
      "Please also refer to the documentation for alternative solver options:\n",
      "    https://scikit-learn.org/stable/modules/linear_model.html#logistic-regression\n",
      "  n_iter_i = _check_optimize_result(\n",
      "LogisticRegression is running...:  70%|███████   | 14/20 [01:49<00:42,  7.09s/it]"
     ]
    },
    {
     "name": "stdout",
     "output_type": "stream",
     "text": [
      "Fold 15 - 정확도: 0.7315, ROC-AUC: 0.7229\n"
     ]
    },
    {
     "name": "stderr",
     "output_type": "stream",
     "text": [
      "/root/miniconda3/envs/aimers/lib/python3.12/site-packages/sklearn/linear_model/_logistic.py:465: ConvergenceWarning: lbfgs failed to converge (status=1):\n",
      "STOP: TOTAL NO. OF ITERATIONS REACHED LIMIT.\n",
      "\n",
      "Increase the number of iterations (max_iter) or scale the data as shown in:\n",
      "    https://scikit-learn.org/stable/modules/preprocessing.html\n",
      "Please also refer to the documentation for alternative solver options:\n",
      "    https://scikit-learn.org/stable/modules/linear_model.html#logistic-regression\n",
      "  n_iter_i = _check_optimize_result(\n",
      "LogisticRegression is running...:  75%|███████▌  | 15/20 [01:56<00:34,  6.99s/it]"
     ]
    },
    {
     "name": "stdout",
     "output_type": "stream",
     "text": [
      "Fold 16 - 정확도: 0.7467, ROC-AUC: 0.7223\n"
     ]
    },
    {
     "name": "stderr",
     "output_type": "stream",
     "text": [
      "/root/miniconda3/envs/aimers/lib/python3.12/site-packages/sklearn/linear_model/_logistic.py:465: ConvergenceWarning: lbfgs failed to converge (status=1):\n",
      "STOP: TOTAL NO. OF ITERATIONS REACHED LIMIT.\n",
      "\n",
      "Increase the number of iterations (max_iter) or scale the data as shown in:\n",
      "    https://scikit-learn.org/stable/modules/preprocessing.html\n",
      "Please also refer to the documentation for alternative solver options:\n",
      "    https://scikit-learn.org/stable/modules/linear_model.html#logistic-regression\n",
      "  n_iter_i = _check_optimize_result(\n",
      "LogisticRegression is running...:  80%|████████  | 16/20 [02:02<00:27,  6.91s/it]"
     ]
    },
    {
     "name": "stdout",
     "output_type": "stream",
     "text": [
      "Fold 17 - 정확도: 0.7445, ROC-AUC: 0.7092\n"
     ]
    },
    {
     "name": "stderr",
     "output_type": "stream",
     "text": [
      "/root/miniconda3/envs/aimers/lib/python3.12/site-packages/sklearn/linear_model/_logistic.py:465: ConvergenceWarning: lbfgs failed to converge (status=1):\n",
      "STOP: TOTAL NO. OF ITERATIONS REACHED LIMIT.\n",
      "\n",
      "Increase the number of iterations (max_iter) or scale the data as shown in:\n",
      "    https://scikit-learn.org/stable/modules/preprocessing.html\n",
      "Please also refer to the documentation for alternative solver options:\n",
      "    https://scikit-learn.org/stable/modules/linear_model.html#logistic-regression\n",
      "  n_iter_i = _check_optimize_result(\n",
      "LogisticRegression is running...:  85%|████████▌ | 17/20 [02:08<00:19,  6.64s/it]"
     ]
    },
    {
     "name": "stdout",
     "output_type": "stream",
     "text": [
      "Fold 18 - 정확도: 0.7440, ROC-AUC: 0.7231\n"
     ]
    },
    {
     "name": "stderr",
     "output_type": "stream",
     "text": [
      "/root/miniconda3/envs/aimers/lib/python3.12/site-packages/sklearn/linear_model/_logistic.py:465: ConvergenceWarning: lbfgs failed to converge (status=1):\n",
      "STOP: TOTAL NO. OF ITERATIONS REACHED LIMIT.\n",
      "\n",
      "Increase the number of iterations (max_iter) or scale the data as shown in:\n",
      "    https://scikit-learn.org/stable/modules/preprocessing.html\n",
      "Please also refer to the documentation for alternative solver options:\n",
      "    https://scikit-learn.org/stable/modules/linear_model.html#logistic-regression\n",
      "  n_iter_i = _check_optimize_result(\n",
      "LogisticRegression is running...:  90%|█████████ | 18/20 [02:15<00:13,  6.59s/it]"
     ]
    },
    {
     "name": "stdout",
     "output_type": "stream",
     "text": [
      "Fold 19 - 정확도: 0.7378, ROC-AUC: 0.7211\n"
     ]
    },
    {
     "name": "stderr",
     "output_type": "stream",
     "text": [
      "/root/miniconda3/envs/aimers/lib/python3.12/site-packages/sklearn/linear_model/_logistic.py:465: ConvergenceWarning: lbfgs failed to converge (status=1):\n",
      "STOP: TOTAL NO. OF ITERATIONS REACHED LIMIT.\n",
      "\n",
      "Increase the number of iterations (max_iter) or scale the data as shown in:\n",
      "    https://scikit-learn.org/stable/modules/preprocessing.html\n",
      "Please also refer to the documentation for alternative solver options:\n",
      "    https://scikit-learn.org/stable/modules/linear_model.html#logistic-regression\n",
      "  n_iter_i = _check_optimize_result(\n",
      "LogisticRegression is running...:  95%|█████████▌| 19/20 [02:20<00:06,  6.27s/it]"
     ]
    },
    {
     "name": "stdout",
     "output_type": "stream",
     "text": [
      "Fold 20 - 정확도: 0.7375, ROC-AUC: 0.7207\n"
     ]
    },
    {
     "name": "stderr",
     "output_type": "stream",
     "text": [
      "/root/miniconda3/envs/aimers/lib/python3.12/site-packages/sklearn/linear_model/_logistic.py:465: ConvergenceWarning: lbfgs failed to converge (status=1):\n",
      "STOP: TOTAL NO. OF ITERATIONS REACHED LIMIT.\n",
      "\n",
      "Increase the number of iterations (max_iter) or scale the data as shown in:\n",
      "    https://scikit-learn.org/stable/modules/preprocessing.html\n",
      "Please also refer to the documentation for alternative solver options:\n",
      "    https://scikit-learn.org/stable/modules/linear_model.html#logistic-regression\n",
      "  n_iter_i = _check_optimize_result(\n",
      "LogisticRegression is running...: 100%|██████████| 20/20 [02:27<00:00,  7.36s/it]"
     ]
    },
    {
     "name": "stdout",
     "output_type": "stream",
     "text": [
      "Fold 21 - 정확도: 0.7458, ROC-AUC: 0.7221\n",
      "LogisticRegression - 평균 정확도: 0.7406, 평균 ROC-AUC: 0.7190\n",
      "\n",
      "=== 모델별 평균 성능 지표 ===\n",
      "LGBMClassifier - 정확도: 0.7457, ROC-AUC: 0.7394\n",
      "GradientBoostingClassifier - 정확도: 0.7460, ROC-AUC: 0.7379\n",
      "CatBoostClassifier - 정확도: 0.7450, ROC-AUC: 0.7377\n",
      "XGBClassifier - 정확도: 0.7445, ROC-AUC: 0.7370\n",
      "AdaBoostClassifier - 정확도: 0.7431, ROC-AUC: 0.7220\n",
      "LogisticRegression - 정확도: 0.7406, ROC-AUC: 0.7190\n",
      "RandomForestClassifier - 정확도: 0.7261, ROC-AUC: 0.7021\n",
      "ExtraTreesClassifier - 정확도: 0.7156, ROC-AUC: 0.6894\n",
      "KNeighborsClassifier - 정확도: 0.7045, ROC-AUC: 0.6482\n",
      "DecisionTreeClassifier - 정확도: 0.6606, ROC-AUC: 0.5686\n"
     ]
    },
    {
     "name": "stderr",
     "output_type": "stream",
     "text": [
      "\n"
     ]
    }
   ],
   "source": [
    "# 각 모델별 검증 정확도와 ROC-AUC를 저장할 딕셔너리\n",
    "model_metrics = {}\n",
    "\n",
    "# 각 모델에 대해 K-fold 교차 검증 수행\n",
    "for model in models:\n",
    "    fold_accuracies = []\n",
    "    fold_roc_aucs = []\n",
    "    \n",
    "    # K-fold 교차 검증\n",
    "    for fold, (train_idx, val_idx) in tqdm(enumerate(kf.split(X_encoded), 1), total=kf.get_n_splits(), desc=f\"{model.__class__.__name__} is running...\"):\n",
    "        # 학습 데이터와 검증 데이터 분할\n",
    "        X_train_fold = X_encoded.iloc[train_idx]\n",
    "        y_train_fold = y.iloc[train_idx]\n",
    "        X_val_fold = X_encoded.iloc[val_idx]\n",
    "        y_val_fold = y.iloc[val_idx]\n",
    "        \n",
    "        # 모델 학습\n",
    "        model.fit(X_train_fold, y_train_fold)\n",
    "        \n",
    "        # 검증 데이터에 대한 예측\n",
    "        y_val_pred = model.predict(X_val_fold)\n",
    "        y_val_pred_proba = model.predict_proba(X_val_fold)[:, 1]\n",
    "        \n",
    "        # 정확도와 ROC-AUC 계산\n",
    "        accuracy = accuracy_score(y_val_fold, y_val_pred)\n",
    "        roc_auc = roc_auc_score(y_val_fold, y_val_pred_proba)\n",
    "        \n",
    "        fold_accuracies.append(accuracy)\n",
    "        fold_roc_aucs.append(roc_auc)\n",
    "        \n",
    "        print(f\"Fold {fold+1:2d} - 정확도: {accuracy:.4f}, ROC-AUC: {roc_auc:.4f}\")\n",
    "    \n",
    "    # 평균 정확도와 ROC-AUC 계산 및 저장\n",
    "    mean_accuracy = np.mean(fold_accuracies)\n",
    "    mean_roc_auc = np.mean(fold_roc_aucs)\n",
    "    model_metrics[model.__class__.__name__] = {\n",
    "        'accuracy': mean_accuracy,\n",
    "        'roc_auc': mean_roc_auc\n",
    "    }\n",
    "    print(f\"{model.__class__.__name__} - 평균 정확도: {mean_accuracy:.4f}, 평균 ROC-AUC: {mean_roc_auc:.4f}\")\n"
   ]
  },
  {
   "cell_type": "code",
   "execution_count": 35,
   "metadata": {},
   "outputs": [
    {
     "name": "stdout",
     "output_type": "stream",
     "text": [
      "\n",
      "=== 모델별 평균 성능 지표 ===\n",
      "1번째 모델 LGBMClassifier - 정확도: 0.7457, ROC-AUC: 0.7394\n",
      "5번째 모델 GradientBoostingClassifier - 정확도: 0.7460, ROC-AUC: 0.7379\n",
      "2번째 모델 CatBoostClassifier - 정확도: 0.7450, ROC-AUC: 0.7377\n",
      "0번째 모델 XGBClassifier - 정확도: 0.7445, ROC-AUC: 0.7370\n",
      "6번째 모델 AdaBoostClassifier - 정확도: 0.7431, ROC-AUC: 0.7220\n",
      "9번째 모델 LogisticRegression - 정확도: 0.7406, ROC-AUC: 0.7190\n",
      "3번째 모델 RandomForestClassifier - 정확도: 0.7261, ROC-AUC: 0.7021\n",
      "4번째 모델 ExtraTreesClassifier - 정확도: 0.7156, ROC-AUC: 0.6894\n",
      "8번째 모델 KNeighborsClassifier - 정확도: 0.7045, ROC-AUC: 0.6482\n",
      "7번째 모델 DecisionTreeClassifier - 정확도: 0.6606, ROC-AUC: 0.5686\n"
     ]
    }
   ],
   "source": [
    "# 모델별 평균 정확도와 ROC-AUC를 정렬하여 출력\n",
    "print(\"\\n=== 모델별 평균 성능 지표 ===\")\n",
    "for model_name, metrics in sorted(model_metrics.items(), key=lambda x: x[1]['roc_auc'], reverse=True):\n",
    "    print(f\"{list(model_metrics.keys()).index(model_name)}번째 모델 {model_name} - 정확도: {metrics['accuracy']:.4f}, ROC-AUC: {metrics['roc_auc']:.4f}\")"
   ]
  },
  {
   "cell_type": "markdown",
   "metadata": {},
   "source": [
    "### F. Inference"
   ]
  },
  {
   "cell_type": "markdown",
   "metadata": {},
   "source": [
    "F-1. Best Model (LGBMClassifier)"
   ]
  },
  {
   "cell_type": "code",
   "execution_count": 37,
   "metadata": {},
   "outputs": [],
   "source": [
    "# 이전에 학습된 LightGBM 모델로 테스트 데이터 예측\n",
    "# 테스트 데이터에 대한 예측 확률 계산\n",
    "pred_proba = models[1].predict_proba(test_encoded)[:, 1]"
   ]
  },
  {
   "cell_type": "markdown",
   "metadata": {},
   "source": [
    "F-2. Model Ensemble"
   ]
  },
  {
   "cell_type": "code",
   "execution_count": 27,
   "metadata": {},
   "outputs": [
    {
     "name": "stdout",
     "output_type": "stream",
     "text": [
      "\n",
      "=== 앙상블 모델의 가중치 ===\n",
      "XGBClassifier: 0.1053\n",
      "LGBMClassifier: 0.1056\n",
      "CatBoostClassifier: 0.1054\n",
      "RandomForestClassifier: 0.1003\n",
      "ExtraTreesClassifier: 0.0985\n",
      "GradientBoostingClassifier: 0.1054\n",
      "AdaBoostClassifier: 0.1031\n",
      "DecisionTreeClassifier: 0.0812\n",
      "KNeighborsClassifier: 0.0926\n",
      "LogisticRegression: 0.1027\n"
     ]
    }
   ],
   "source": [
    "# 모델 앙상블을 위한 예측값 저장\n",
    "ensemble_predictions = []\n",
    "ensemble_probas = []\n",
    "\n",
    "# 각 모델별 예측 수행\n",
    "for model in models:\n",
    "    ensemble_predictions.append(model.predict(test_encoded))\n",
    "    ensemble_probas.append(model.predict_proba(test_encoded)[:, 1])\n",
    "\n",
    "# ROC-AUC 기반 가중치 계산\n",
    "weights = []\n",
    "total_roc_auc = sum(metrics['roc_auc'] for metrics in model_metrics.values())\n",
    "for metrics in model_metrics.values():\n",
    "    weights.append(metrics['roc_auc'] / total_roc_auc)\n",
    "\n",
    "# 가중치가 적용된 확률값 계산\n",
    "weighted_probas = np.zeros(len(test_encoded))\n",
    "for i in range(len(models)):\n",
    "    weighted_probas += weights[i] * ensemble_probas[i]\n",
    "\n",
    "# 최종 예측값 생성 (0.5를 임계값으로 사용)\n",
    "final_predictions = (weighted_probas > 0.5).astype(int)\n",
    "\n",
    "# 앙상블 모델을 위한 최종 예측 확률 저장\n",
    "model = type('EnsembleModel', (), {\n",
    "    'predict_proba': lambda self, X: np.column_stack((1-weighted_probas, weighted_probas))\n",
    "})()\n",
    "\n",
    "print(\"\\n=== 앙상블 모델의 가중치 ===\")\n",
    "for i, (model_name, weight) in enumerate(zip(model_metrics.keys(), weights)):\n",
    "    print(f\"{model_name}: {weight:.4f}\")"
   ]
  },
  {
   "cell_type": "code",
   "execution_count": 38,
   "metadata": {},
   "outputs": [
    {
     "data": {
      "image/png": "[encoded data removed]",
      "text/plain": [
       "<Figure size 1000x600 with 1 Axes>"
      ]
     },
     "metadata": {},
     "output_type": "display_data"
    },
    {
     "name": "stdout",
     "output_type": "stream",
     "text": [
      "Prediction Probability Statistics:\n",
      "Mean: 0.2502\n",
      "Standard Deviation: 0.1589\n",
      "Minimum: 0.0006\n",
      "Maximum: 0.7505\n"
     ]
    }
   ],
   "source": [
    "plt.figure(figsize=(10, 6))\n",
    "plt.hist(pred_proba, bins=50)\n",
    "plt.title('Prediction Probability Distribution')\n",
    "plt.xlabel('Prediction Probability')\n",
    "plt.ylabel('Frequency')\n",
    "plt.grid(True)\n",
    "plt.show()\n",
    "\n",
    "print(f'Prediction Probability Statistics:')\n",
    "print(f'Mean: {pred_proba.mean():.4f}')\n",
    "print(f'Standard Deviation: {pred_proba.std():.4f}')\n",
    "print(f'Minimum: {pred_proba.min():.4f}')\n",
    "print(f'Maximum: {pred_proba.max():.4f}')"
   ]
  },
  {
   "cell_type": "markdown",
   "metadata": {},
   "source": [
    "### F. Submission"
   ]
  },
  {
   "cell_type": "code",
   "execution_count": 39,
   "metadata": {},
   "outputs": [],
   "source": [
    "sample_submission = pd.read_csv('../data/sample_submission.csv')\n",
    "sample_submission['probability'] = pred_proba"
   ]
  },
  {
   "cell_type": "code",
   "execution_count": 32,
   "metadata": {},
   "outputs": [],
   "source": [
    "sample_submission.to_csv('../results/lgbm.1.csv', index=False)"
   ]
  },
  {
   "cell_type": "code",
   "execution_count": null,
   "metadata": {},
   "outputs": [],
   "source": []
  }
 ],
 "metadata": {
  "kernelspec": {
   "display_name": "aimers",
   "language": "python",
   "name": "python3"
  },
  "language_info": {
   "codemirror_mode": {
    "name": "ipython",
    "version": 3
   },
   "file_extension": ".py",
   "mimetype": "text/x-python",
   "name": "python",
   "nbconvert_exporter": "python",
   "pygments_lexer": "ipython3",
   "version": "3.12.9"
  }
 },
 "nbformat": 4,
 "nbformat_minor": 2
}
